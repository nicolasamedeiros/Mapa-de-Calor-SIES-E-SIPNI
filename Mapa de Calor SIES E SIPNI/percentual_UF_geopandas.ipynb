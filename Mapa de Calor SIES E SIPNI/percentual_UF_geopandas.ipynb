{
 "cells": [
  {
   "cell_type": "code",
   "execution_count": 244,
   "metadata": {},
   "outputs": [],
   "source": [
    "import pandas as pd\n",
    "import geopandas as gpd\n",
    "from geobr import read_state\n",
    "from matplotlib.colors import ListedColormap\n",
    "import matplotlib.pyplot as plt\n",
    "import matplotlib.patches as mpatches"
   ]
  },
  {
   "cell_type": "code",
   "execution_count": 245,
   "metadata": {},
   "outputs": [],
   "source": [
    "df = pd.read_excel('Dados/Resposta A 00 Brasil SIES - Adesao_municipios-final.xlsx', sheet_name='ufs_movimetacao', usecols='A:E')"
   ]
  },
  {
   "cell_type": "code",
   "execution_count": 246,
   "metadata": {},
   "outputs": [
    {
     "data": {
      "text/html": [
       "<div>\n",
       "<style scoped>\n",
       "    .dataframe tbody tr th:only-of-type {\n",
       "        vertical-align: middle;\n",
       "    }\n",
       "\n",
       "    .dataframe tbody tr th {\n",
       "        vertical-align: top;\n",
       "    }\n",
       "\n",
       "    .dataframe thead th {\n",
       "        text-align: right;\n",
       "    }\n",
       "</style>\n",
       "<table border=\"1\" class=\"dataframe\">\n",
       "  <thead>\n",
       "    <tr style=\"text-align: right;\">\n",
       "      <th></th>\n",
       "      <th>UF</th>\n",
       "      <th>Municípios que movimentam SIES por UF</th>\n",
       "      <th>Região</th>\n",
       "      <th>Municipios por Estado</th>\n",
       "      <th>Percentual Estadual</th>\n",
       "    </tr>\n",
       "  </thead>\n",
       "  <tbody>\n",
       "    <tr>\n",
       "      <th>0</th>\n",
       "      <td>AC</td>\n",
       "      <td>21</td>\n",
       "      <td>Norte</td>\n",
       "      <td>22</td>\n",
       "      <td>0.954545</td>\n",
       "    </tr>\n",
       "    <tr>\n",
       "      <th>1</th>\n",
       "      <td>AL</td>\n",
       "      <td>77</td>\n",
       "      <td>Nordeste</td>\n",
       "      <td>102</td>\n",
       "      <td>0.754902</td>\n",
       "    </tr>\n",
       "    <tr>\n",
       "      <th>2</th>\n",
       "      <td>AM</td>\n",
       "      <td>35</td>\n",
       "      <td>Norte</td>\n",
       "      <td>62</td>\n",
       "      <td>0.564516</td>\n",
       "    </tr>\n",
       "    <tr>\n",
       "      <th>3</th>\n",
       "      <td>AP</td>\n",
       "      <td>8</td>\n",
       "      <td>Norte</td>\n",
       "      <td>16</td>\n",
       "      <td>0.5</td>\n",
       "    </tr>\n",
       "    <tr>\n",
       "      <th>4</th>\n",
       "      <td>BA</td>\n",
       "      <td>323</td>\n",
       "      <td>Nordeste</td>\n",
       "      <td>417</td>\n",
       "      <td>0.77458</td>\n",
       "    </tr>\n",
       "  </tbody>\n",
       "</table>\n",
       "</div>"
      ],
      "text/plain": [
       "   UF Municípios que movimentam SIES por UF    Região  Municipios por Estado  \\\n",
       "0  AC                                    21     Norte                     22   \n",
       "1  AL                                    77  Nordeste                    102   \n",
       "2  AM                                    35     Norte                     62   \n",
       "3  AP                                     8     Norte                     16   \n",
       "4  BA                                   323  Nordeste                    417   \n",
       "\n",
       "  Percentual Estadual  \n",
       "0            0.954545  \n",
       "1            0.754902  \n",
       "2            0.564516  \n",
       "3                 0.5  \n",
       "4             0.77458  "
      ]
     },
     "execution_count": 246,
     "metadata": {},
     "output_type": "execute_result"
    }
   ],
   "source": [
    "df.head()"
   ]
  },
  {
   "cell_type": "code",
   "execution_count": 247,
   "metadata": {},
   "outputs": [],
   "source": [
    "#estados brasileiros\n",
    "estates = read_state(code_state='all', year=2020)"
   ]
  },
  {
   "cell_type": "code",
   "execution_count": 248,
   "metadata": {},
   "outputs": [],
   "source": [
    "estates.drop(columns=['code_state', 'code_region', 'name_region'], inplace=True)"
   ]
  },
  {
   "cell_type": "code",
   "execution_count": 249,
   "metadata": {},
   "outputs": [
    {
     "data": {
      "text/html": [
       "<div>\n",
       "<style scoped>\n",
       "    .dataframe tbody tr th:only-of-type {\n",
       "        vertical-align: middle;\n",
       "    }\n",
       "\n",
       "    .dataframe tbody tr th {\n",
       "        vertical-align: top;\n",
       "    }\n",
       "\n",
       "    .dataframe thead th {\n",
       "        text-align: right;\n",
       "    }\n",
       "</style>\n",
       "<table border=\"1\" class=\"dataframe\">\n",
       "  <thead>\n",
       "    <tr style=\"text-align: right;\">\n",
       "      <th></th>\n",
       "      <th>abbrev_state</th>\n",
       "      <th>name_state</th>\n",
       "      <th>geometry</th>\n",
       "    </tr>\n",
       "  </thead>\n",
       "  <tbody>\n",
       "    <tr>\n",
       "      <th>0</th>\n",
       "      <td>RO</td>\n",
       "      <td>Rondônia</td>\n",
       "      <td>MULTIPOLYGON (((-65.3815 -10.42907, -65.38013 ...</td>\n",
       "    </tr>\n",
       "    <tr>\n",
       "      <th>1</th>\n",
       "      <td>AC</td>\n",
       "      <td>Acre</td>\n",
       "      <td>MULTIPOLYGON (((-71.07772 -9.82774, -71.07817 ...</td>\n",
       "    </tr>\n",
       "    <tr>\n",
       "      <th>2</th>\n",
       "      <td>AM</td>\n",
       "      <td>Amazônas</td>\n",
       "      <td>MULTIPOLYGON (((-69.83766 -3.68659, -69.82555 ...</td>\n",
       "    </tr>\n",
       "    <tr>\n",
       "      <th>3</th>\n",
       "      <td>RR</td>\n",
       "      <td>Roraima</td>\n",
       "      <td>MULTIPOLYGON (((-63.96008 2.47313, -63.96041 2...</td>\n",
       "    </tr>\n",
       "    <tr>\n",
       "      <th>4</th>\n",
       "      <td>PA</td>\n",
       "      <td>Pará</td>\n",
       "      <td>MULTIPOLYGON (((-51.43248 -0.47334, -51.42949 ...</td>\n",
       "    </tr>\n",
       "  </tbody>\n",
       "</table>\n",
       "</div>"
      ],
      "text/plain": [
       "  abbrev_state name_state                                           geometry\n",
       "0           RO   Rondônia  MULTIPOLYGON (((-65.3815 -10.42907, -65.38013 ...\n",
       "1           AC       Acre  MULTIPOLYGON (((-71.07772 -9.82774, -71.07817 ...\n",
       "2           AM   Amazônas  MULTIPOLYGON (((-69.83766 -3.68659, -69.82555 ...\n",
       "3           RR    Roraima  MULTIPOLYGON (((-63.96008 2.47313, -63.96041 2...\n",
       "4           PA       Pará  MULTIPOLYGON (((-51.43248 -0.47334, -51.42949 ..."
      ]
     },
     "execution_count": 249,
     "metadata": {},
     "output_type": "execute_result"
    }
   ],
   "source": [
    "estates.head()"
   ]
  },
  {
   "cell_type": "code",
   "execution_count": 250,
   "metadata": {},
   "outputs": [],
   "source": [
    "df.columns = ['UF', 'Municipios que movimentam SIES por UF', 'Regiao', 'Municipios por Estado', 'Percentual Estadual']"
   ]
  },
  {
   "cell_type": "code",
   "execution_count": 251,
   "metadata": {},
   "outputs": [],
   "source": [
    "estates.columns = ['UF', 'nome_estado', 'geometry']"
   ]
  },
  {
   "cell_type": "code",
   "execution_count": 252,
   "metadata": {},
   "outputs": [],
   "source": [
    "#substituindo valores nulos por NaN\n",
    "df['Percentual Estadual'] = pd.to_numeric(df['Percentual Estadual'],errors='coerce')"
   ]
  },
  {
   "cell_type": "code",
   "execution_count": 253,
   "metadata": {},
   "outputs": [],
   "source": [
    "df['Percentual Estadual'] = df['Percentual Estadual'].astype('float64')"
   ]
  },
  {
   "cell_type": "code",
   "execution_count": 254,
   "metadata": {},
   "outputs": [],
   "source": [
    "df['Percentual Estadual'] = df['Percentual Estadual'].fillna(-1)"
   ]
  },
  {
   "cell_type": "code",
   "execution_count": 255,
   "metadata": {},
   "outputs": [
    {
     "data": {
      "text/html": [
       "<div>\n",
       "<style scoped>\n",
       "    .dataframe tbody tr th:only-of-type {\n",
       "        vertical-align: middle;\n",
       "    }\n",
       "\n",
       "    .dataframe tbody tr th {\n",
       "        vertical-align: top;\n",
       "    }\n",
       "\n",
       "    .dataframe thead th {\n",
       "        text-align: right;\n",
       "    }\n",
       "</style>\n",
       "<table border=\"1\" class=\"dataframe\">\n",
       "  <thead>\n",
       "    <tr style=\"text-align: right;\">\n",
       "      <th></th>\n",
       "      <th>UF</th>\n",
       "      <th>Municipios que movimentam SIES por UF</th>\n",
       "      <th>Regiao</th>\n",
       "      <th>Municipios por Estado</th>\n",
       "      <th>Percentual Estadual</th>\n",
       "    </tr>\n",
       "  </thead>\n",
       "  <tbody>\n",
       "    <tr>\n",
       "      <th>6</th>\n",
       "      <td>DF</td>\n",
       "      <td>Sem informação</td>\n",
       "      <td>Centro-Oeste</td>\n",
       "      <td>1</td>\n",
       "      <td>-1.0</td>\n",
       "    </tr>\n",
       "  </tbody>\n",
       "</table>\n",
       "</div>"
      ],
      "text/plain": [
       "   UF Municipios que movimentam SIES por UF        Regiao  \\\n",
       "6  DF                        Sem informação  Centro-Oeste   \n",
       "\n",
       "   Municipios por Estado  Percentual Estadual  \n",
       "6                      1                 -1.0  "
      ]
     },
     "execution_count": 255,
     "metadata": {},
     "output_type": "execute_result"
    }
   ],
   "source": [
    "df[df['UF'] == 'DF']"
   ]
  },
  {
   "cell_type": "code",
   "execution_count": 256,
   "metadata": {},
   "outputs": [],
   "source": [
    "df = pd.merge(df, estates, on='UF', how='left')"
   ]
  },
  {
   "cell_type": "code",
   "execution_count": 257,
   "metadata": {},
   "outputs": [
    {
     "data": {
      "text/html": [
       "<div>\n",
       "<style scoped>\n",
       "    .dataframe tbody tr th:only-of-type {\n",
       "        vertical-align: middle;\n",
       "    }\n",
       "\n",
       "    .dataframe tbody tr th {\n",
       "        vertical-align: top;\n",
       "    }\n",
       "\n",
       "    .dataframe thead th {\n",
       "        text-align: right;\n",
       "    }\n",
       "</style>\n",
       "<table border=\"1\" class=\"dataframe\">\n",
       "  <thead>\n",
       "    <tr style=\"text-align: right;\">\n",
       "      <th></th>\n",
       "      <th>UF</th>\n",
       "      <th>Municipios que movimentam SIES por UF</th>\n",
       "      <th>Regiao</th>\n",
       "      <th>Municipios por Estado</th>\n",
       "      <th>Percentual Estadual</th>\n",
       "      <th>nome_estado</th>\n",
       "      <th>geometry</th>\n",
       "    </tr>\n",
       "  </thead>\n",
       "  <tbody>\n",
       "    <tr>\n",
       "      <th>0</th>\n",
       "      <td>AC</td>\n",
       "      <td>21</td>\n",
       "      <td>Norte</td>\n",
       "      <td>22</td>\n",
       "      <td>0.954545</td>\n",
       "      <td>Acre</td>\n",
       "      <td>MULTIPOLYGON (((-71.07772 -9.82774, -71.07817 ...</td>\n",
       "    </tr>\n",
       "    <tr>\n",
       "      <th>1</th>\n",
       "      <td>AL</td>\n",
       "      <td>77</td>\n",
       "      <td>Nordeste</td>\n",
       "      <td>102</td>\n",
       "      <td>0.754902</td>\n",
       "      <td>Alagoas</td>\n",
       "      <td>MULTIPOLYGON (((-35.75791 -9.69285, -35.75801 ...</td>\n",
       "    </tr>\n",
       "    <tr>\n",
       "      <th>2</th>\n",
       "      <td>AM</td>\n",
       "      <td>35</td>\n",
       "      <td>Norte</td>\n",
       "      <td>62</td>\n",
       "      <td>0.564516</td>\n",
       "      <td>Amazônas</td>\n",
       "      <td>MULTIPOLYGON (((-69.83766 -3.68659, -69.82555 ...</td>\n",
       "    </tr>\n",
       "    <tr>\n",
       "      <th>3</th>\n",
       "      <td>AP</td>\n",
       "      <td>8</td>\n",
       "      <td>Norte</td>\n",
       "      <td>16</td>\n",
       "      <td>0.500000</td>\n",
       "      <td>Amapá</td>\n",
       "      <td>MULTIPOLYGON (((-50.45011 2.10924, -50.44715 2...</td>\n",
       "    </tr>\n",
       "    <tr>\n",
       "      <th>4</th>\n",
       "      <td>BA</td>\n",
       "      <td>323</td>\n",
       "      <td>Nordeste</td>\n",
       "      <td>417</td>\n",
       "      <td>0.774580</td>\n",
       "      <td>Bahia</td>\n",
       "      <td>MULTIPOLYGON (((-38.69616 -17.97901, -38.69618...</td>\n",
       "    </tr>\n",
       "  </tbody>\n",
       "</table>\n",
       "</div>"
      ],
      "text/plain": [
       "   UF Municipios que movimentam SIES por UF    Regiao  Municipios por Estado  \\\n",
       "0  AC                                    21     Norte                     22   \n",
       "1  AL                                    77  Nordeste                    102   \n",
       "2  AM                                    35     Norte                     62   \n",
       "3  AP                                     8     Norte                     16   \n",
       "4  BA                                   323  Nordeste                    417   \n",
       "\n",
       "   Percentual Estadual nome_estado  \\\n",
       "0             0.954545        Acre   \n",
       "1             0.754902     Alagoas   \n",
       "2             0.564516    Amazônas   \n",
       "3             0.500000       Amapá   \n",
       "4             0.774580       Bahia   \n",
       "\n",
       "                                            geometry  \n",
       "0  MULTIPOLYGON (((-71.07772 -9.82774, -71.07817 ...  \n",
       "1  MULTIPOLYGON (((-35.75791 -9.69285, -35.75801 ...  \n",
       "2  MULTIPOLYGON (((-69.83766 -3.68659, -69.82555 ...  \n",
       "3  MULTIPOLYGON (((-50.45011 2.10924, -50.44715 2...  \n",
       "4  MULTIPOLYGON (((-38.69616 -17.97901, -38.69618...  "
      ]
     },
     "execution_count": 257,
     "metadata": {},
     "output_type": "execute_result"
    }
   ],
   "source": [
    "df.head()"
   ]
  },
  {
   "cell_type": "code",
   "execution_count": 258,
   "metadata": {},
   "outputs": [],
   "source": [
    "gdf = gpd.GeoDataFrame(df, geometry='geometry')"
   ]
  },
  {
   "cell_type": "code",
   "execution_count": 259,
   "metadata": {},
   "outputs": [
    {
     "data": {
      "text/html": [
       "<div>\n",
       "<style scoped>\n",
       "    .dataframe tbody tr th:only-of-type {\n",
       "        vertical-align: middle;\n",
       "    }\n",
       "\n",
       "    .dataframe tbody tr th {\n",
       "        vertical-align: top;\n",
       "    }\n",
       "\n",
       "    .dataframe thead th {\n",
       "        text-align: right;\n",
       "    }\n",
       "</style>\n",
       "<table border=\"1\" class=\"dataframe\">\n",
       "  <thead>\n",
       "    <tr style=\"text-align: right;\">\n",
       "      <th></th>\n",
       "      <th>UF</th>\n",
       "      <th>Municipios que movimentam SIES por UF</th>\n",
       "      <th>Regiao</th>\n",
       "      <th>Municipios por Estado</th>\n",
       "      <th>Percentual Estadual</th>\n",
       "      <th>nome_estado</th>\n",
       "      <th>geometry</th>\n",
       "    </tr>\n",
       "  </thead>\n",
       "  <tbody>\n",
       "    <tr>\n",
       "      <th>0</th>\n",
       "      <td>AC</td>\n",
       "      <td>21</td>\n",
       "      <td>Norte</td>\n",
       "      <td>22</td>\n",
       "      <td>0.954545</td>\n",
       "      <td>Acre</td>\n",
       "      <td>MULTIPOLYGON (((-71.07772 -9.82774, -71.07817 ...</td>\n",
       "    </tr>\n",
       "    <tr>\n",
       "      <th>1</th>\n",
       "      <td>AL</td>\n",
       "      <td>77</td>\n",
       "      <td>Nordeste</td>\n",
       "      <td>102</td>\n",
       "      <td>0.754902</td>\n",
       "      <td>Alagoas</td>\n",
       "      <td>MULTIPOLYGON (((-35.75791 -9.69285, -35.75801 ...</td>\n",
       "    </tr>\n",
       "    <tr>\n",
       "      <th>2</th>\n",
       "      <td>AM</td>\n",
       "      <td>35</td>\n",
       "      <td>Norte</td>\n",
       "      <td>62</td>\n",
       "      <td>0.564516</td>\n",
       "      <td>Amazônas</td>\n",
       "      <td>MULTIPOLYGON (((-69.83766 -3.68659, -69.82555 ...</td>\n",
       "    </tr>\n",
       "  </tbody>\n",
       "</table>\n",
       "</div>"
      ],
      "text/plain": [
       "   UF Municipios que movimentam SIES por UF    Regiao  Municipios por Estado  \\\n",
       "0  AC                                    21     Norte                     22   \n",
       "1  AL                                    77  Nordeste                    102   \n",
       "2  AM                                    35     Norte                     62   \n",
       "\n",
       "   Percentual Estadual nome_estado  \\\n",
       "0             0.954545        Acre   \n",
       "1             0.754902     Alagoas   \n",
       "2             0.564516    Amazônas   \n",
       "\n",
       "                                            geometry  \n",
       "0  MULTIPOLYGON (((-71.07772 -9.82774, -71.07817 ...  \n",
       "1  MULTIPOLYGON (((-35.75791 -9.69285, -35.75801 ...  \n",
       "2  MULTIPOLYGON (((-69.83766 -3.68659, -69.82555 ...  "
      ]
     },
     "execution_count": 259,
     "metadata": {},
     "output_type": "execute_result"
    }
   ],
   "source": [
    "gdf.head(3)"
   ]
  },
  {
   "cell_type": "code",
   "execution_count": 260,
   "metadata": {},
   "outputs": [
    {
     "name": "stdout",
     "output_type": "stream",
     "text": [
      "Index(['UF', 'Municipios que movimentam SIES por UF', 'Regiao',\n",
      "       'Municipios por Estado', 'Percentual Estadual', 'nome_estado',\n",
      "       'geometry'],\n",
      "      dtype='object')\n"
     ]
    }
   ],
   "source": [
    "print(gdf.columns)"
   ]
  },
  {
   "cell_type": "code",
   "execution_count": 261,
   "metadata": {},
   "outputs": [],
   "source": [
    "cmap = ListedColormap(['gray', 'red', 'orange', 'yellow', 'green'])"
   ]
  },
  {
   "cell_type": "code",
   "execution_count": 262,
   "metadata": {},
   "outputs": [],
   "source": [
    "# Criar as categorias\n",
    "gdf['Adesao_Percentual_Estadual'] = pd.cut(\n",
    "    gdf['Percentual Estadual'],\n",
    "    bins=[-1, 0, 0.5, 0.85, 0.95, 1],\n",
    "    labels=[0, 1, 2, 3, 4],  # Mapeia para índices de cores\n",
    "    include_lowest=True\n",
    ")"
   ]
  },
  {
   "cell_type": "code",
   "execution_count": 263,
   "metadata": {},
   "outputs": [
    {
     "data": {
      "text/html": [
       "<div>\n",
       "<style scoped>\n",
       "    .dataframe tbody tr th:only-of-type {\n",
       "        vertical-align: middle;\n",
       "    }\n",
       "\n",
       "    .dataframe tbody tr th {\n",
       "        vertical-align: top;\n",
       "    }\n",
       "\n",
       "    .dataframe thead th {\n",
       "        text-align: right;\n",
       "    }\n",
       "</style>\n",
       "<table border=\"1\" class=\"dataframe\">\n",
       "  <thead>\n",
       "    <tr style=\"text-align: right;\">\n",
       "      <th></th>\n",
       "      <th>UF</th>\n",
       "      <th>Municipios que movimentam SIES por UF</th>\n",
       "      <th>Regiao</th>\n",
       "      <th>Municipios por Estado</th>\n",
       "      <th>Percentual Estadual</th>\n",
       "      <th>nome_estado</th>\n",
       "      <th>geometry</th>\n",
       "      <th>Adesao_Percentual_Estadual</th>\n",
       "    </tr>\n",
       "  </thead>\n",
       "  <tbody>\n",
       "    <tr>\n",
       "      <th>0</th>\n",
       "      <td>AC</td>\n",
       "      <td>21</td>\n",
       "      <td>Norte</td>\n",
       "      <td>22</td>\n",
       "      <td>0.954545</td>\n",
       "      <td>Acre</td>\n",
       "      <td>MULTIPOLYGON (((-71.07772 -9.82774, -71.07817 ...</td>\n",
       "      <td>4</td>\n",
       "    </tr>\n",
       "    <tr>\n",
       "      <th>1</th>\n",
       "      <td>AL</td>\n",
       "      <td>77</td>\n",
       "      <td>Nordeste</td>\n",
       "      <td>102</td>\n",
       "      <td>0.754902</td>\n",
       "      <td>Alagoas</td>\n",
       "      <td>MULTIPOLYGON (((-35.75791 -9.69285, -35.75801 ...</td>\n",
       "      <td>2</td>\n",
       "    </tr>\n",
       "    <tr>\n",
       "      <th>2</th>\n",
       "      <td>AM</td>\n",
       "      <td>35</td>\n",
       "      <td>Norte</td>\n",
       "      <td>62</td>\n",
       "      <td>0.564516</td>\n",
       "      <td>Amazônas</td>\n",
       "      <td>MULTIPOLYGON (((-69.83766 -3.68659, -69.82555 ...</td>\n",
       "      <td>2</td>\n",
       "    </tr>\n",
       "  </tbody>\n",
       "</table>\n",
       "</div>"
      ],
      "text/plain": [
       "   UF Municipios que movimentam SIES por UF    Regiao  Municipios por Estado  \\\n",
       "0  AC                                    21     Norte                     22   \n",
       "1  AL                                    77  Nordeste                    102   \n",
       "2  AM                                    35     Norte                     62   \n",
       "\n",
       "   Percentual Estadual nome_estado  \\\n",
       "0             0.954545        Acre   \n",
       "1             0.754902     Alagoas   \n",
       "2             0.564516    Amazônas   \n",
       "\n",
       "                                            geometry  \\\n",
       "0  MULTIPOLYGON (((-71.07772 -9.82774, -71.07817 ...   \n",
       "1  MULTIPOLYGON (((-35.75791 -9.69285, -35.75801 ...   \n",
       "2  MULTIPOLYGON (((-69.83766 -3.68659, -69.82555 ...   \n",
       "\n",
       "  Adesao_Percentual_Estadual  \n",
       "0                          4  \n",
       "1                          2  \n",
       "2                          2  "
      ]
     },
     "execution_count": 263,
     "metadata": {},
     "output_type": "execute_result"
    }
   ],
   "source": [
    "gdf.head(3)"
   ]
  },
  {
   "cell_type": "code",
   "execution_count": 264,
   "metadata": {},
   "outputs": [
    {
     "data": {
      "text/html": [
       "<div>\n",
       "<style scoped>\n",
       "    .dataframe tbody tr th:only-of-type {\n",
       "        vertical-align: middle;\n",
       "    }\n",
       "\n",
       "    .dataframe tbody tr th {\n",
       "        vertical-align: top;\n",
       "    }\n",
       "\n",
       "    .dataframe thead th {\n",
       "        text-align: right;\n",
       "    }\n",
       "</style>\n",
       "<table border=\"1\" class=\"dataframe\">\n",
       "  <thead>\n",
       "    <tr style=\"text-align: right;\">\n",
       "      <th></th>\n",
       "      <th>UF</th>\n",
       "      <th>Municipios que movimentam SIES por UF</th>\n",
       "      <th>Regiao</th>\n",
       "      <th>Municipios por Estado</th>\n",
       "      <th>Percentual Estadual</th>\n",
       "      <th>nome_estado</th>\n",
       "      <th>geometry</th>\n",
       "      <th>Adesao_Percentual_Estadual</th>\n",
       "    </tr>\n",
       "  </thead>\n",
       "  <tbody>\n",
       "    <tr>\n",
       "      <th>0</th>\n",
       "      <td>AC</td>\n",
       "      <td>21</td>\n",
       "      <td>Norte</td>\n",
       "      <td>22</td>\n",
       "      <td>0.954545</td>\n",
       "      <td>Acre</td>\n",
       "      <td>MULTIPOLYGON (((-71.07772 -9.82774, -71.07817 ...</td>\n",
       "      <td>4</td>\n",
       "    </tr>\n",
       "    <tr>\n",
       "      <th>12</th>\n",
       "      <td>MT</td>\n",
       "      <td>141</td>\n",
       "      <td>Centro-Oeste</td>\n",
       "      <td>141</td>\n",
       "      <td>1.000000</td>\n",
       "      <td>Mato Grosso</td>\n",
       "      <td>MULTIPOLYGON (((-61.54023 -10.00021, -61.54014...</td>\n",
       "      <td>4</td>\n",
       "    </tr>\n",
       "    <tr>\n",
       "      <th>13</th>\n",
       "      <td>PA</td>\n",
       "      <td>141</td>\n",
       "      <td>Norte</td>\n",
       "      <td>144</td>\n",
       "      <td>0.979167</td>\n",
       "      <td>Pará</td>\n",
       "      <td>MULTIPOLYGON (((-51.43248 -0.47334, -51.42949 ...</td>\n",
       "      <td>4</td>\n",
       "    </tr>\n",
       "    <tr>\n",
       "      <th>23</th>\n",
       "      <td>SC</td>\n",
       "      <td>289</td>\n",
       "      <td>Sul</td>\n",
       "      <td>295</td>\n",
       "      <td>0.979661</td>\n",
       "      <td>Santa Catarina</td>\n",
       "      <td>MULTIPOLYGON (((-48.60084 -28.35222, -48.60096...</td>\n",
       "      <td>4</td>\n",
       "    </tr>\n",
       "    <tr>\n",
       "      <th>25</th>\n",
       "      <td>SP</td>\n",
       "      <td>632</td>\n",
       "      <td>Sudeste</td>\n",
       "      <td>645</td>\n",
       "      <td>0.979845</td>\n",
       "      <td>São Paulo</td>\n",
       "      <td>MULTIPOLYGON (((-48.03716 -25.35794, -48.0375 ...</td>\n",
       "      <td>4</td>\n",
       "    </tr>\n",
       "  </tbody>\n",
       "</table>\n",
       "</div>"
      ],
      "text/plain": [
       "    UF Municipios que movimentam SIES por UF        Regiao  \\\n",
       "0   AC                                    21         Norte   \n",
       "12  MT                                   141  Centro-Oeste   \n",
       "13  PA                                   141         Norte   \n",
       "23  SC                                   289           Sul   \n",
       "25  SP                                   632       Sudeste   \n",
       "\n",
       "    Municipios por Estado  Percentual Estadual     nome_estado  \\\n",
       "0                      22             0.954545            Acre   \n",
       "12                    141             1.000000     Mato Grosso   \n",
       "13                    144             0.979167            Pará   \n",
       "23                    295             0.979661  Santa Catarina   \n",
       "25                    645             0.979845       São Paulo   \n",
       "\n",
       "                                             geometry  \\\n",
       "0   MULTIPOLYGON (((-71.07772 -9.82774, -71.07817 ...   \n",
       "12  MULTIPOLYGON (((-61.54023 -10.00021, -61.54014...   \n",
       "13  MULTIPOLYGON (((-51.43248 -0.47334, -51.42949 ...   \n",
       "23  MULTIPOLYGON (((-48.60084 -28.35222, -48.60096...   \n",
       "25  MULTIPOLYGON (((-48.03716 -25.35794, -48.0375 ...   \n",
       "\n",
       "   Adesao_Percentual_Estadual  \n",
       "0                           4  \n",
       "12                          4  \n",
       "13                          4  \n",
       "23                          4  \n",
       "25                          4  "
      ]
     },
     "execution_count": 264,
     "metadata": {},
     "output_type": "execute_result"
    }
   ],
   "source": [
    "gdf[gdf['Adesao_Percentual_Estadual'] == 4]"
   ]
  },
  {
   "cell_type": "code",
   "execution_count": 265,
   "metadata": {},
   "outputs": [
    {
     "data": {
      "image/png": "[encoded data removed]",
      "text/plain": [
       "<Figure size 1500x1000 with 1 Axes>"
      ]
     },
     "metadata": {},
     "output_type": "display_data"
    }
   ],
   "source": [
    "grafico = gdf.plot(column='Adesao_Percentual_Estadual', cmap=cmap, edgecolor='black', linewidth=0.8, legend=False, figsize=(15, 10))\n",
    "\n",
    "grafico.set_title(\"Porcentagem de Adesão dos municípios ao SIES por UF\", fontsize=15)\n",
    "\n",
    "#remover os tucks e labels dos eixos\n",
    "grafico.set_xticks([])\n",
    "grafico.set_yticks([])\n",
    "grafico.set_xticklabels([])\n",
    "grafico.set_yticklabels([])\n",
    "\n",
    "grafico.spines['top'].set_visible(False)\n",
    "grafico.spines['right'].set_visible(False)\n",
    "grafico.spines['bottom'].set_visible(False)\n",
    "grafico.spines['left'].set_visible(False)\n",
    "\n",
    "handles = [\n",
    "    mpatches.Patch(color='gray', label='Sem informação'),\n",
    "    mpatches.Patch(color='red', label='< 50%'),\n",
    "    mpatches.Patch(color='orange', label='>= 50% e < 85%'),\n",
    "    mpatches.Patch(color='yellow', label='>= 85% e < 95%'),\n",
    "    mpatches.Patch(color='green', label='>= 95%')\n",
    "]\n",
    "\n",
    "plt.legend(\n",
    "    handles=handles,\n",
    "    title='Cores',\n",
    "    bbox_to_anchor=(0.3, 0.2),\n",
    ")\n",
    "\n",
    "plt.savefig('Imagens/Adesão_UF.jpeg', dpi=600, bbox_inches='tight')\n",
    "\n",
    "plt.show()\n"
   ]
  }
 ],
 "metadata": {
  "kernelspec": {
   "display_name": "Python 3.11.8 ('.venv': venv)",
   "language": "python",
   "name": "python3"
  },
  "language_info": {
   "codemirror_mode": {
    "name": "ipython",
    "version": 3
   },
   "file_extension": ".py",
   "mimetype": "text/x-python",
   "name": "python",
   "nbconvert_exporter": "python",
   "pygments_lexer": "ipython3",
   "version": "3.11.8"
  },
  "vscode": {
   "interpreter": {
    "hash": "8530bc416db8e053b80715e5855da075650449f78233b445336d61a16c04a718"
   }
  }
 },
 "nbformat": 4,
 "nbformat_minor": 2
}
