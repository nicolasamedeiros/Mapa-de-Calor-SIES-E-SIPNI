{
 "cells": [
  {
   "cell_type": "code",
   "execution_count": 123,
   "metadata": {},
   "outputs": [],
   "source": [
    "import pandas as pd"
   ]
  },
  {
   "cell_type": "code",
   "execution_count": 124,
   "metadata": {},
   "outputs": [
    {
     "name": "stderr",
     "output_type": "stream",
     "text": [
      "<>:2: SyntaxWarning: invalid escape sequence '\\R'\n",
      "<>:2: SyntaxWarning: invalid escape sequence '\\R'\n",
      "C:\\Users\\nicol\\AppData\\Local\\Temp\\ipykernel_12720\\4196681965.py:2: SyntaxWarning: invalid escape sequence '\\R'\n",
      "  df = pd.read_csv('Municipios csv\\Regiao centro oeste.csv', delimiter=';')\n"
     ]
    }
   ],
   "source": [
    "#subindo o arquivo csv\n",
    "df = pd.read_csv('Municipios csv\\Regiao centro oeste.csv', delimiter=';')"
   ]
  },
  {
   "cell_type": "code",
   "execution_count": 125,
   "metadata": {},
   "outputs": [
    {
     "data": {
      "text/html": [
       "<div>\n",
       "<style scoped>\n",
       "    .dataframe tbody tr th:only-of-type {\n",
       "        vertical-align: middle;\n",
       "    }\n",
       "\n",
       "    .dataframe tbody tr th {\n",
       "        vertical-align: top;\n",
       "    }\n",
       "\n",
       "    .dataframe thead th {\n",
       "        text-align: right;\n",
       "    }\n",
       "</style>\n",
       "<table border=\"1\" class=\"dataframe\">\n",
       "  <thead>\n",
       "    <tr style=\"text-align: right;\">\n",
       "      <th></th>\n",
       "      <th>UF</th>\n",
       "      <th>IBGE</th>\n",
       "      <th>NOME_MUNICIPIO</th>\n",
       "      <th>ENTIDADE</th>\n",
       "      <th>Adesão</th>\n",
       "    </tr>\n",
       "  </thead>\n",
       "  <tbody>\n",
       "    <tr>\n",
       "      <th>0</th>\n",
       "      <td>GO</td>\n",
       "      <td>520005</td>\n",
       "      <td>ABADIA DE GOIAS</td>\n",
       "      <td>SECRETARIA MUNICIPAL DE SAUDE DE ABADIA DE GOI...</td>\n",
       "      <td>Sim</td>\n",
       "    </tr>\n",
       "    <tr>\n",
       "      <th>1</th>\n",
       "      <td>GO</td>\n",
       "      <td>520005</td>\n",
       "      <td>ABADIA DE GOIÁS</td>\n",
       "      <td>NaN</td>\n",
       "      <td>Não</td>\n",
       "    </tr>\n",
       "    <tr>\n",
       "      <th>2</th>\n",
       "      <td>GO</td>\n",
       "      <td>520010</td>\n",
       "      <td>ABADIÂNIA</td>\n",
       "      <td>NaN</td>\n",
       "      <td>Não</td>\n",
       "    </tr>\n",
       "    <tr>\n",
       "      <th>3</th>\n",
       "      <td>MT</td>\n",
       "      <td>510010</td>\n",
       "      <td>ACORIZAL</td>\n",
       "      <td>SECRETARIA MUNICIPAL DE SAUDE DE ACORIZAL/MT</td>\n",
       "      <td>Sim</td>\n",
       "    </tr>\n",
       "    <tr>\n",
       "      <th>4</th>\n",
       "      <td>MT</td>\n",
       "      <td>510010</td>\n",
       "      <td>ACORIZAL</td>\n",
       "      <td>NaN</td>\n",
       "      <td>Não</td>\n",
       "    </tr>\n",
       "  </tbody>\n",
       "</table>\n",
       "</div>"
      ],
      "text/plain": [
       "   UF    IBGE   NOME_MUNICIPIO  \\\n",
       "0  GO  520005  ABADIA DE GOIAS   \n",
       "1  GO  520005  ABADIA DE GOIÁS   \n",
       "2  GO  520010        ABADIÂNIA   \n",
       "3  MT  510010         ACORIZAL   \n",
       "4  MT  510010         ACORIZAL   \n",
       "\n",
       "                                            ENTIDADE Adesão  \n",
       "0  SECRETARIA MUNICIPAL DE SAUDE DE ABADIA DE GOI...    Sim  \n",
       "1                                                NaN    Não  \n",
       "2                                                NaN    Não  \n",
       "3       SECRETARIA MUNICIPAL DE SAUDE DE ACORIZAL/MT    Sim  \n",
       "4                                                NaN    Não  "
      ]
     },
     "execution_count": 125,
     "metadata": {},
     "output_type": "execute_result"
    }
   ],
   "source": [
    "#conferindo dados\n",
    "df.head()"
   ]
  },
  {
   "cell_type": "code",
   "execution_count": 126,
   "metadata": {},
   "outputs": [],
   "source": [
    "#Mudando Sim e Não para 1 e 0\n",
    "df[\"Adesão\"] = df[\"Adesão\"].str.replace('Sim', '1')\n",
    "df[\"Adesão\"] = df[\"Adesão\"].str.replace('Não', '0').astype(int)"
   ]
  },
  {
   "cell_type": "code",
   "execution_count": 127,
   "metadata": {},
   "outputs": [],
   "source": [
    "#Excluindo as colunas entidade e nome municipio\n",
    "df.drop('ENTIDADE', inplace=True, axis=1)\n",
    "df.drop('NOME_MUNICIPIO', inplace=True, axis=1)"
   ]
  },
  {
   "cell_type": "code",
   "execution_count": 128,
   "metadata": {},
   "outputs": [],
   "source": [
    "#Agrupando por uf e ibge e somando\n",
    "df = df.groupby(['UF', 'IBGE']).sum().reset_index()"
   ]
  },
  {
   "cell_type": "code",
   "execution_count": 129,
   "metadata": {},
   "outputs": [
    {
     "data": {
      "text/html": [
       "<div>\n",
       "<style scoped>\n",
       "    .dataframe tbody tr th:only-of-type {\n",
       "        vertical-align: middle;\n",
       "    }\n",
       "\n",
       "    .dataframe tbody tr th {\n",
       "        vertical-align: top;\n",
       "    }\n",
       "\n",
       "    .dataframe thead th {\n",
       "        text-align: right;\n",
       "    }\n",
       "</style>\n",
       "<table border=\"1\" class=\"dataframe\">\n",
       "  <thead>\n",
       "    <tr style=\"text-align: right;\">\n",
       "      <th></th>\n",
       "      <th>UF</th>\n",
       "      <th>IBGE</th>\n",
       "      <th>Adesão</th>\n",
       "    </tr>\n",
       "  </thead>\n",
       "  <tbody>\n",
       "    <tr>\n",
       "      <th>0</th>\n",
       "      <td>GO</td>\n",
       "      <td>520005</td>\n",
       "      <td>1</td>\n",
       "    </tr>\n",
       "    <tr>\n",
       "      <th>1</th>\n",
       "      <td>GO</td>\n",
       "      <td>520010</td>\n",
       "      <td>0</td>\n",
       "    </tr>\n",
       "    <tr>\n",
       "      <th>2</th>\n",
       "      <td>GO</td>\n",
       "      <td>520013</td>\n",
       "      <td>1</td>\n",
       "    </tr>\n",
       "    <tr>\n",
       "      <th>3</th>\n",
       "      <td>GO</td>\n",
       "      <td>520015</td>\n",
       "      <td>1</td>\n",
       "    </tr>\n",
       "    <tr>\n",
       "      <th>4</th>\n",
       "      <td>GO</td>\n",
       "      <td>520017</td>\n",
       "      <td>1</td>\n",
       "    </tr>\n",
       "  </tbody>\n",
       "</table>\n",
       "</div>"
      ],
      "text/plain": [
       "   UF    IBGE  Adesão\n",
       "0  GO  520005       1\n",
       "1  GO  520010       0\n",
       "2  GO  520013       1\n",
       "3  GO  520015       1\n",
       "4  GO  520017       1"
      ]
     },
     "execution_count": 129,
     "metadata": {},
     "output_type": "execute_result"
    }
   ],
   "source": [
    "#conferindo dados\n",
    "df.head()"
   ]
  },
  {
   "cell_type": "code",
   "execution_count": 130,
   "metadata": {},
   "outputs": [
    {
     "data": {
      "text/html": [
       "<div>\n",
       "<style scoped>\n",
       "    .dataframe tbody tr th:only-of-type {\n",
       "        vertical-align: middle;\n",
       "    }\n",
       "\n",
       "    .dataframe tbody tr th {\n",
       "        vertical-align: top;\n",
       "    }\n",
       "\n",
       "    .dataframe thead th {\n",
       "        text-align: right;\n",
       "    }\n",
       "</style>\n",
       "<table border=\"1\" class=\"dataframe\">\n",
       "  <thead>\n",
       "    <tr style=\"text-align: right;\">\n",
       "      <th></th>\n",
       "      <th>UF</th>\n",
       "      <th>IBGE</th>\n",
       "      <th>Adesão</th>\n",
       "    </tr>\n",
       "  </thead>\n",
       "  <tbody>\n",
       "    <tr>\n",
       "      <th>1</th>\n",
       "      <td>GO</td>\n",
       "      <td>520010</td>\n",
       "      <td>0</td>\n",
       "    </tr>\n",
       "  </tbody>\n",
       "</table>\n",
       "</div>"
      ],
      "text/plain": [
       "   UF    IBGE  Adesão\n",
       "1  GO  520010       0"
      ]
     },
     "execution_count": 130,
     "metadata": {},
     "output_type": "execute_result"
    }
   ],
   "source": [
    "#Filtrando valor 520010\n",
    "df[df['IBGE'] == 520010]"
   ]
  },
  {
   "cell_type": "code",
   "execution_count": 131,
   "metadata": {},
   "outputs": [
    {
     "data": {
      "text/plain": [
       "466"
      ]
     },
     "execution_count": 131,
     "metadata": {},
     "output_type": "execute_result"
    }
   ],
   "source": [
    "#verificando tamanho do dataframe\n",
    "len(df)"
   ]
  },
  {
   "cell_type": "code",
   "execution_count": 132,
   "metadata": {},
   "outputs": [],
   "source": [
    "#Mudando coluna adesão para string\n",
    "df[\"Adesão\"] = df[\"Adesão\"].astype(str)"
   ]
  },
  {
   "cell_type": "code",
   "execution_count": 133,
   "metadata": {},
   "outputs": [],
   "source": [
    "#Mudando 1 e 0 para Sim e Não\n",
    "df[\"Adesão\"] = df[\"Adesão\"].str.replace('1', 'Sim')\n",
    "df[\"Adesão\"] = df[\"Adesão\"].str.replace('0', 'Não')"
   ]
  },
  {
   "cell_type": "markdown",
   "metadata": {},
   "source": [
    "## Segundo dataframe pra trazer a coluna municipio"
   ]
  },
  {
   "cell_type": "code",
   "execution_count": 134,
   "metadata": {},
   "outputs": [
    {
     "name": "stderr",
     "output_type": "stream",
     "text": [
      "<>:2: SyntaxWarning: invalid escape sequence '\\R'\n",
      "<>:2: SyntaxWarning: invalid escape sequence '\\R'\n",
      "C:\\Users\\nicol\\AppData\\Local\\Temp\\ipykernel_12720\\3072158752.py:2: SyntaxWarning: invalid escape sequence '\\R'\n",
      "  df1 = pd.read_csv('Municipios csv\\Regiao centro oeste.csv', delimiter=';')\n"
     ]
    }
   ],
   "source": [
    "#subindo o arquivo csv\n",
    "df1 = pd.read_csv('Municipios csv\\Regiao centro oeste.csv', delimiter=';')"
   ]
  },
  {
   "cell_type": "code",
   "execution_count": 135,
   "metadata": {},
   "outputs": [
    {
     "data": {
      "text/html": [
       "<div>\n",
       "<style scoped>\n",
       "    .dataframe tbody tr th:only-of-type {\n",
       "        vertical-align: middle;\n",
       "    }\n",
       "\n",
       "    .dataframe tbody tr th {\n",
       "        vertical-align: top;\n",
       "    }\n",
       "\n",
       "    .dataframe thead th {\n",
       "        text-align: right;\n",
       "    }\n",
       "</style>\n",
       "<table border=\"1\" class=\"dataframe\">\n",
       "  <thead>\n",
       "    <tr style=\"text-align: right;\">\n",
       "      <th></th>\n",
       "      <th>UF</th>\n",
       "      <th>IBGE</th>\n",
       "      <th>NOME_MUNICIPIO</th>\n",
       "      <th>ENTIDADE</th>\n",
       "      <th>Adesão</th>\n",
       "    </tr>\n",
       "  </thead>\n",
       "  <tbody>\n",
       "    <tr>\n",
       "      <th>0</th>\n",
       "      <td>GO</td>\n",
       "      <td>520005</td>\n",
       "      <td>ABADIA DE GOIAS</td>\n",
       "      <td>SECRETARIA MUNICIPAL DE SAUDE DE ABADIA DE GOI...</td>\n",
       "      <td>Sim</td>\n",
       "    </tr>\n",
       "    <tr>\n",
       "      <th>1</th>\n",
       "      <td>GO</td>\n",
       "      <td>520005</td>\n",
       "      <td>ABADIA DE GOIÁS</td>\n",
       "      <td>NaN</td>\n",
       "      <td>Não</td>\n",
       "    </tr>\n",
       "    <tr>\n",
       "      <th>2</th>\n",
       "      <td>GO</td>\n",
       "      <td>520010</td>\n",
       "      <td>ABADIÂNIA</td>\n",
       "      <td>NaN</td>\n",
       "      <td>Não</td>\n",
       "    </tr>\n",
       "    <tr>\n",
       "      <th>3</th>\n",
       "      <td>MT</td>\n",
       "      <td>510010</td>\n",
       "      <td>ACORIZAL</td>\n",
       "      <td>SECRETARIA MUNICIPAL DE SAUDE DE ACORIZAL/MT</td>\n",
       "      <td>Sim</td>\n",
       "    </tr>\n",
       "    <tr>\n",
       "      <th>4</th>\n",
       "      <td>MT</td>\n",
       "      <td>510010</td>\n",
       "      <td>ACORIZAL</td>\n",
       "      <td>NaN</td>\n",
       "      <td>Não</td>\n",
       "    </tr>\n",
       "  </tbody>\n",
       "</table>\n",
       "</div>"
      ],
      "text/plain": [
       "   UF    IBGE   NOME_MUNICIPIO  \\\n",
       "0  GO  520005  ABADIA DE GOIAS   \n",
       "1  GO  520005  ABADIA DE GOIÁS   \n",
       "2  GO  520010        ABADIÂNIA   \n",
       "3  MT  510010         ACORIZAL   \n",
       "4  MT  510010         ACORIZAL   \n",
       "\n",
       "                                            ENTIDADE Adesão  \n",
       "0  SECRETARIA MUNICIPAL DE SAUDE DE ABADIA DE GOI...    Sim  \n",
       "1                                                NaN    Não  \n",
       "2                                                NaN    Não  \n",
       "3       SECRETARIA MUNICIPAL DE SAUDE DE ACORIZAL/MT    Sim  \n",
       "4                                                NaN    Não  "
      ]
     },
     "execution_count": 135,
     "metadata": {},
     "output_type": "execute_result"
    }
   ],
   "source": [
    "#conferindo dados\n",
    "df1.head()"
   ]
  },
  {
   "cell_type": "code",
   "execution_count": 136,
   "metadata": {},
   "outputs": [],
   "source": [
    "#excluindo as colunas uf, adesão e entidade\n",
    "df1.drop('UF', inplace=True, axis=1)\n",
    "df1.drop('Adesão', inplace=True, axis=1)\n",
    "df1.drop('ENTIDADE', inplace=True, axis=1)"
   ]
  },
  {
   "cell_type": "code",
   "execution_count": 137,
   "metadata": {},
   "outputs": [],
   "source": [
    "#excluindo duplicadas de ibge\n",
    "df1.drop_duplicates('IBGE', inplace=True)"
   ]
  },
  {
   "cell_type": "code",
   "execution_count": 138,
   "metadata": {},
   "outputs": [
    {
     "data": {
      "text/html": [
       "<div>\n",
       "<style scoped>\n",
       "    .dataframe tbody tr th:only-of-type {\n",
       "        vertical-align: middle;\n",
       "    }\n",
       "\n",
       "    .dataframe tbody tr th {\n",
       "        vertical-align: top;\n",
       "    }\n",
       "\n",
       "    .dataframe thead th {\n",
       "        text-align: right;\n",
       "    }\n",
       "</style>\n",
       "<table border=\"1\" class=\"dataframe\">\n",
       "  <thead>\n",
       "    <tr style=\"text-align: right;\">\n",
       "      <th></th>\n",
       "      <th>IBGE</th>\n",
       "      <th>NOME_MUNICIPIO</th>\n",
       "    </tr>\n",
       "  </thead>\n",
       "  <tbody>\n",
       "    <tr>\n",
       "      <th>0</th>\n",
       "      <td>520005</td>\n",
       "      <td>ABADIA DE GOIAS</td>\n",
       "    </tr>\n",
       "    <tr>\n",
       "      <th>2</th>\n",
       "      <td>520010</td>\n",
       "      <td>ABADIÂNIA</td>\n",
       "    </tr>\n",
       "    <tr>\n",
       "      <th>3</th>\n",
       "      <td>510010</td>\n",
       "      <td>ACORIZAL</td>\n",
       "    </tr>\n",
       "    <tr>\n",
       "      <th>5</th>\n",
       "      <td>520013</td>\n",
       "      <td>ACREUNA</td>\n",
       "    </tr>\n",
       "    <tr>\n",
       "      <th>7</th>\n",
       "      <td>520015</td>\n",
       "      <td>ADELANDIA</td>\n",
       "    </tr>\n",
       "  </tbody>\n",
       "</table>\n",
       "</div>"
      ],
      "text/plain": [
       "     IBGE   NOME_MUNICIPIO\n",
       "0  520005  ABADIA DE GOIAS\n",
       "2  520010        ABADIÂNIA\n",
       "3  510010         ACORIZAL\n",
       "5  520013          ACREUNA\n",
       "7  520015        ADELANDIA"
      ]
     },
     "execution_count": 138,
     "metadata": {},
     "output_type": "execute_result"
    }
   ],
   "source": [
    "#conferindo dados\n",
    "df1.head()"
   ]
  },
  {
   "cell_type": "code",
   "execution_count": 139,
   "metadata": {},
   "outputs": [],
   "source": [
    "#unindo o primeiro com o segundo dataframe\n",
    "df = pd.merge(df, df1, on='IBGE')"
   ]
  },
  {
   "cell_type": "code",
   "execution_count": 140,
   "metadata": {},
   "outputs": [
    {
     "data": {
      "text/html": [
       "<div>\n",
       "<style scoped>\n",
       "    .dataframe tbody tr th:only-of-type {\n",
       "        vertical-align: middle;\n",
       "    }\n",
       "\n",
       "    .dataframe tbody tr th {\n",
       "        vertical-align: top;\n",
       "    }\n",
       "\n",
       "    .dataframe thead th {\n",
       "        text-align: right;\n",
       "    }\n",
       "</style>\n",
       "<table border=\"1\" class=\"dataframe\">\n",
       "  <thead>\n",
       "    <tr style=\"text-align: right;\">\n",
       "      <th></th>\n",
       "      <th>UF</th>\n",
       "      <th>IBGE</th>\n",
       "      <th>Adesão</th>\n",
       "      <th>NOME_MUNICIPIO</th>\n",
       "    </tr>\n",
       "  </thead>\n",
       "  <tbody>\n",
       "    <tr>\n",
       "      <th>1</th>\n",
       "      <td>GO</td>\n",
       "      <td>520010</td>\n",
       "      <td>Não</td>\n",
       "      <td>ABADIÂNIA</td>\n",
       "    </tr>\n",
       "  </tbody>\n",
       "</table>\n",
       "</div>"
      ],
      "text/plain": [
       "   UF    IBGE Adesão NOME_MUNICIPIO\n",
       "1  GO  520010    Não      ABADIÂNIA"
      ]
     },
     "execution_count": 140,
     "metadata": {},
     "output_type": "execute_result"
    }
   ],
   "source": [
    "#Filtrando valor 520010\n",
    "df[df['IBGE'] == 520010]"
   ]
  },
  {
   "cell_type": "code",
   "execution_count": 141,
   "metadata": {},
   "outputs": [
    {
     "data": {
      "text/html": [
       "<div>\n",
       "<style scoped>\n",
       "    .dataframe tbody tr th:only-of-type {\n",
       "        vertical-align: middle;\n",
       "    }\n",
       "\n",
       "    .dataframe tbody tr th {\n",
       "        vertical-align: top;\n",
       "    }\n",
       "\n",
       "    .dataframe thead th {\n",
       "        text-align: right;\n",
       "    }\n",
       "</style>\n",
       "<table border=\"1\" class=\"dataframe\">\n",
       "  <thead>\n",
       "    <tr style=\"text-align: right;\">\n",
       "      <th></th>\n",
       "      <th>UF</th>\n",
       "      <th>IBGE</th>\n",
       "      <th>Adesão</th>\n",
       "      <th>NOME_MUNICIPIO</th>\n",
       "    </tr>\n",
       "  </thead>\n",
       "  <tbody>\n",
       "    <tr>\n",
       "      <th>0</th>\n",
       "      <td>GO</td>\n",
       "      <td>520005</td>\n",
       "      <td>Sim</td>\n",
       "      <td>ABADIA DE GOIAS</td>\n",
       "    </tr>\n",
       "    <tr>\n",
       "      <th>1</th>\n",
       "      <td>GO</td>\n",
       "      <td>520010</td>\n",
       "      <td>Não</td>\n",
       "      <td>ABADIÂNIA</td>\n",
       "    </tr>\n",
       "    <tr>\n",
       "      <th>2</th>\n",
       "      <td>GO</td>\n",
       "      <td>520013</td>\n",
       "      <td>Sim</td>\n",
       "      <td>ACREUNA</td>\n",
       "    </tr>\n",
       "    <tr>\n",
       "      <th>3</th>\n",
       "      <td>GO</td>\n",
       "      <td>520015</td>\n",
       "      <td>Sim</td>\n",
       "      <td>ADELANDIA</td>\n",
       "    </tr>\n",
       "    <tr>\n",
       "      <th>4</th>\n",
       "      <td>GO</td>\n",
       "      <td>520017</td>\n",
       "      <td>Sim</td>\n",
       "      <td>AGUA FRIA DE GOIAS</td>\n",
       "    </tr>\n",
       "  </tbody>\n",
       "</table>\n",
       "</div>"
      ],
      "text/plain": [
       "   UF    IBGE Adesão      NOME_MUNICIPIO\n",
       "0  GO  520005    Sim     ABADIA DE GOIAS\n",
       "1  GO  520010    Não           ABADIÂNIA\n",
       "2  GO  520013    Sim             ACREUNA\n",
       "3  GO  520015    Sim           ADELANDIA\n",
       "4  GO  520017    Sim  AGUA FRIA DE GOIAS"
      ]
     },
     "execution_count": 141,
     "metadata": {},
     "output_type": "execute_result"
    }
   ],
   "source": [
    "#conferindo dados\n",
    "df.head()"
   ]
  },
  {
   "cell_type": "markdown",
   "metadata": {},
   "source": [
    "## Terceiro dataframe pra trazer a coluna ENTIDADE"
   ]
  },
  {
   "cell_type": "code",
   "execution_count": 142,
   "metadata": {},
   "outputs": [
    {
     "name": "stderr",
     "output_type": "stream",
     "text": [
      "<>:2: SyntaxWarning: invalid escape sequence '\\R'\n",
      "<>:2: SyntaxWarning: invalid escape sequence '\\R'\n",
      "C:\\Users\\nicol\\AppData\\Local\\Temp\\ipykernel_12720\\2588111477.py:2: SyntaxWarning: invalid escape sequence '\\R'\n",
      "  df2 = pd.read_csv('Municipios csv\\Regiao centro oeste.csv', delimiter=';')\n"
     ]
    }
   ],
   "source": [
    "#subindo o arquivo csv\n",
    "df2 = pd.read_csv('Municipios csv\\Regiao centro oeste.csv', delimiter=';')"
   ]
  },
  {
   "cell_type": "code",
   "execution_count": 143,
   "metadata": {},
   "outputs": [],
   "source": [
    "#excluindo as colunas uf, adesão e nome municipio\n",
    "df2.drop('UF', inplace=True, axis=1)\n",
    "df2.drop('Adesão', inplace=True, axis=1)\n",
    "df2.drop('NOME_MUNICIPIO', inplace=True, axis=1)"
   ]
  },
  {
   "cell_type": "code",
   "execution_count": 144,
   "metadata": {},
   "outputs": [],
   "source": [
    "#excluindo duplicadas de ibge e excluindo valores nulos\n",
    "df2.drop_duplicates('IBGE', inplace=True)\n",
    "df2.dropna(inplace=True)"
   ]
  },
  {
   "cell_type": "code",
   "execution_count": 145,
   "metadata": {},
   "outputs": [],
   "source": [
    "#unindo com a primeira tabela\n",
    "df = pd.merge(df, df2, on='IBGE', how='left')"
   ]
  },
  {
   "cell_type": "code",
   "execution_count": 146,
   "metadata": {},
   "outputs": [
    {
     "data": {
      "text/html": [
       "<div>\n",
       "<style scoped>\n",
       "    .dataframe tbody tr th:only-of-type {\n",
       "        vertical-align: middle;\n",
       "    }\n",
       "\n",
       "    .dataframe tbody tr th {\n",
       "        vertical-align: top;\n",
       "    }\n",
       "\n",
       "    .dataframe thead th {\n",
       "        text-align: right;\n",
       "    }\n",
       "</style>\n",
       "<table border=\"1\" class=\"dataframe\">\n",
       "  <thead>\n",
       "    <tr style=\"text-align: right;\">\n",
       "      <th></th>\n",
       "      <th>UF</th>\n",
       "      <th>IBGE</th>\n",
       "      <th>Adesão</th>\n",
       "      <th>NOME_MUNICIPIO</th>\n",
       "      <th>ENTIDADE</th>\n",
       "    </tr>\n",
       "  </thead>\n",
       "  <tbody>\n",
       "    <tr>\n",
       "      <th>0</th>\n",
       "      <td>GO</td>\n",
       "      <td>520005</td>\n",
       "      <td>Sim</td>\n",
       "      <td>ABADIA DE GOIAS</td>\n",
       "      <td>SECRETARIA MUNICIPAL DE SAUDE DE ABADIA DE GOI...</td>\n",
       "    </tr>\n",
       "    <tr>\n",
       "      <th>1</th>\n",
       "      <td>GO</td>\n",
       "      <td>520010</td>\n",
       "      <td>Não</td>\n",
       "      <td>ABADIÂNIA</td>\n",
       "      <td>NaN</td>\n",
       "    </tr>\n",
       "    <tr>\n",
       "      <th>2</th>\n",
       "      <td>GO</td>\n",
       "      <td>520013</td>\n",
       "      <td>Sim</td>\n",
       "      <td>ACREUNA</td>\n",
       "      <td>SECRETARIA MUNICIPAL DE SAUDE DE ACREUNA/GO</td>\n",
       "    </tr>\n",
       "    <tr>\n",
       "      <th>3</th>\n",
       "      <td>GO</td>\n",
       "      <td>520015</td>\n",
       "      <td>Sim</td>\n",
       "      <td>ADELANDIA</td>\n",
       "      <td>SECRETARIA MUNICIPAL DE SAUDE DE ADELANDIA/GO</td>\n",
       "    </tr>\n",
       "    <tr>\n",
       "      <th>4</th>\n",
       "      <td>GO</td>\n",
       "      <td>520017</td>\n",
       "      <td>Sim</td>\n",
       "      <td>AGUA FRIA DE GOIAS</td>\n",
       "      <td>SECRETARIA MUNICIPAL DE SAUDE DE AGUA FRIA DE ...</td>\n",
       "    </tr>\n",
       "  </tbody>\n",
       "</table>\n",
       "</div>"
      ],
      "text/plain": [
       "   UF    IBGE Adesão      NOME_MUNICIPIO  \\\n",
       "0  GO  520005    Sim     ABADIA DE GOIAS   \n",
       "1  GO  520010    Não           ABADIÂNIA   \n",
       "2  GO  520013    Sim             ACREUNA   \n",
       "3  GO  520015    Sim           ADELANDIA   \n",
       "4  GO  520017    Sim  AGUA FRIA DE GOIAS   \n",
       "\n",
       "                                            ENTIDADE  \n",
       "0  SECRETARIA MUNICIPAL DE SAUDE DE ABADIA DE GOI...  \n",
       "1                                                NaN  \n",
       "2        SECRETARIA MUNICIPAL DE SAUDE DE ACREUNA/GO  \n",
       "3      SECRETARIA MUNICIPAL DE SAUDE DE ADELANDIA/GO  \n",
       "4  SECRETARIA MUNICIPAL DE SAUDE DE AGUA FRIA DE ...  "
      ]
     },
     "execution_count": 146,
     "metadata": {},
     "output_type": "execute_result"
    }
   ],
   "source": [
    "#conferindo dados\n",
    "df.head()"
   ]
  },
  {
   "cell_type": "code",
   "execution_count": 147,
   "metadata": {},
   "outputs": [
    {
     "data": {
      "text/plain": [
       "466"
      ]
     },
     "execution_count": 147,
     "metadata": {},
     "output_type": "execute_result"
    }
   ],
   "source": [
    "#conferindo tamanho do data frame\n",
    "len(df)"
   ]
  },
  {
   "cell_type": "code",
   "execution_count": 148,
   "metadata": {},
   "outputs": [
    {
     "name": "stderr",
     "output_type": "stream",
     "text": [
      "<>:1: SyntaxWarning: invalid escape sequence '\\R'\n",
      "<>:1: SyntaxWarning: invalid escape sequence '\\R'\n",
      "C:\\Users\\nicol\\AppData\\Local\\Temp\\ipykernel_12720\\1042505026.py:1: SyntaxWarning: invalid escape sequence '\\R'\n",
      "  df.to_csv('Municipios csv\\Regiao centro oeste filtrado.csv', sep=';', index=False)\n"
     ]
    }
   ],
   "source": [
    "df.to_csv('Municipios csv\\Regiao centro oeste filtrado.csv', sep=';', index=False)"
   ]
  }
 ],
 "metadata": {
  "kernelspec": {
   "display_name": "venv",
   "language": "python",
   "name": "python3"
  },
  "language_info": {
   "codemirror_mode": {
    "name": "ipython",
    "version": 3
   },
   "file_extension": ".py",
   "mimetype": "text/x-python",
   "name": "python",
   "nbconvert_exporter": "python",
   "pygments_lexer": "ipython3",
   "version": "3.13.0"
  }
 },
 "nbformat": 4,
 "nbformat_minor": 2
}
