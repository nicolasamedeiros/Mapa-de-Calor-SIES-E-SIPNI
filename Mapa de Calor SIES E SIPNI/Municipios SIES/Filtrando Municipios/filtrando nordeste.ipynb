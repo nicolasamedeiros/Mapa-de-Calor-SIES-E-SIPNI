{
 "cells": [
  {
   "cell_type": "code",
   "execution_count": 52,
   "metadata": {},
   "outputs": [],
   "source": [
    "import pandas as pd"
   ]
  },
  {
   "cell_type": "code",
   "execution_count": 53,
   "metadata": {},
   "outputs": [
    {
     "name": "stderr",
     "output_type": "stream",
     "text": [
      "<>:2: SyntaxWarning: invalid escape sequence '\\R'\n",
      "<>:2: SyntaxWarning: invalid escape sequence '\\R'\n",
      "C:\\Users\\nicol\\AppData\\Local\\Temp\\ipykernel_6720\\1545512075.py:2: SyntaxWarning: invalid escape sequence '\\R'\n",
      "  df = pd.read_csv(\"Municipios csv\\Regiao nordeste.csv\", delimiter=\";\")\n"
     ]
    }
   ],
   "source": [
    "#subindo o arquivo csv\n",
    "df = pd.read_csv(\"Municipios csv\\Regiao nordeste.csv\", delimiter=\";\")"
   ]
  },
  {
   "cell_type": "code",
   "execution_count": 54,
   "metadata": {},
   "outputs": [
    {
     "data": {
      "text/html": [
       "<div>\n",
       "<style scoped>\n",
       "    .dataframe tbody tr th:only-of-type {\n",
       "        vertical-align: middle;\n",
       "    }\n",
       "\n",
       "    .dataframe tbody tr th {\n",
       "        vertical-align: top;\n",
       "    }\n",
       "\n",
       "    .dataframe thead th {\n",
       "        text-align: right;\n",
       "    }\n",
       "</style>\n",
       "<table border=\"1\" class=\"dataframe\">\n",
       "  <thead>\n",
       "    <tr style=\"text-align: right;\">\n",
       "      <th></th>\n",
       "      <th>UF</th>\n",
       "      <th>IBGE</th>\n",
       "      <th>NOME_MUNICIPIO</th>\n",
       "      <th>ENTIDADE</th>\n",
       "      <th>Adesão</th>\n",
       "      <th>Unnamed: 5</th>\n",
       "      <th>Unnamed: 6</th>\n",
       "      <th>Unnamed: 7</th>\n",
       "      <th>Unnamed: 8</th>\n",
       "      <th>Unnamed: 9</th>\n",
       "    </tr>\n",
       "  </thead>\n",
       "  <tbody>\n",
       "    <tr>\n",
       "      <th>0</th>\n",
       "      <td>CE</td>\n",
       "      <td>230010</td>\n",
       "      <td>ABAIARA</td>\n",
       "      <td>SECRETARIA MUNICIPAL DE SAUDE DE ABAIARA/CE</td>\n",
       "      <td>Sim</td>\n",
       "      <td>NaN</td>\n",
       "      <td>NaN</td>\n",
       "      <td>NaN</td>\n",
       "      <td>NaN</td>\n",
       "      <td>NaN</td>\n",
       "    </tr>\n",
       "    <tr>\n",
       "      <th>1</th>\n",
       "      <td>CE</td>\n",
       "      <td>230010</td>\n",
       "      <td>ABAIARA</td>\n",
       "      <td>NaN</td>\n",
       "      <td>Não</td>\n",
       "      <td>NaN</td>\n",
       "      <td>NaN</td>\n",
       "      <td>NaN</td>\n",
       "      <td>NaN</td>\n",
       "      <td>NaN</td>\n",
       "    </tr>\n",
       "    <tr>\n",
       "      <th>2</th>\n",
       "      <td>BA</td>\n",
       "      <td>290010</td>\n",
       "      <td>ABAÍRA</td>\n",
       "      <td>NaN</td>\n",
       "      <td>Não</td>\n",
       "      <td>NaN</td>\n",
       "      <td>NaN</td>\n",
       "      <td>NaN</td>\n",
       "      <td>NaN</td>\n",
       "      <td>NaN</td>\n",
       "    </tr>\n",
       "    <tr>\n",
       "      <th>3</th>\n",
       "      <td>BA</td>\n",
       "      <td>290020</td>\n",
       "      <td>ABARE</td>\n",
       "      <td>SECRETARIA MUNICIPAL DE SAUDE DE ABARE/BA</td>\n",
       "      <td>Sim</td>\n",
       "      <td>NaN</td>\n",
       "      <td>NaN</td>\n",
       "      <td>NaN</td>\n",
       "      <td>NaN</td>\n",
       "      <td>NaN</td>\n",
       "    </tr>\n",
       "    <tr>\n",
       "      <th>4</th>\n",
       "      <td>BA</td>\n",
       "      <td>290020</td>\n",
       "      <td>ABARÉ</td>\n",
       "      <td>NaN</td>\n",
       "      <td>Não</td>\n",
       "      <td>NaN</td>\n",
       "      <td>NaN</td>\n",
       "      <td>NaN</td>\n",
       "      <td>NaN</td>\n",
       "      <td>NaN</td>\n",
       "    </tr>\n",
       "  </tbody>\n",
       "</table>\n",
       "</div>"
      ],
      "text/plain": [
       "   UF    IBGE NOME_MUNICIPIO                                     ENTIDADE  \\\n",
       "0  CE  230010        ABAIARA  SECRETARIA MUNICIPAL DE SAUDE DE ABAIARA/CE   \n",
       "1  CE  230010        ABAIARA                                          NaN   \n",
       "2  BA  290010         ABAÍRA                                          NaN   \n",
       "3  BA  290020          ABARE    SECRETARIA MUNICIPAL DE SAUDE DE ABARE/BA   \n",
       "4  BA  290020          ABARÉ                                          NaN   \n",
       "\n",
       "  Adesão  Unnamed: 5  Unnamed: 6  Unnamed: 7  Unnamed: 8  Unnamed: 9  \n",
       "0    Sim         NaN         NaN         NaN         NaN         NaN  \n",
       "1    Não         NaN         NaN         NaN         NaN         NaN  \n",
       "2    Não         NaN         NaN         NaN         NaN         NaN  \n",
       "3    Sim         NaN         NaN         NaN         NaN         NaN  \n",
       "4    Não         NaN         NaN         NaN         NaN         NaN  "
      ]
     },
     "execution_count": 54,
     "metadata": {},
     "output_type": "execute_result"
    }
   ],
   "source": [
    "#conferindo dados\n",
    "df.head()"
   ]
  },
  {
   "cell_type": "code",
   "execution_count": 55,
   "metadata": {},
   "outputs": [],
   "source": [
    "#Excluindo as colunas vazias\n",
    "df.drop(\"Unnamed: 5\", axis=1, inplace=True)\n",
    "df.drop(\"Unnamed: 6\", axis=1, inplace=True)\n",
    "df.drop(\"Unnamed: 7\", axis=1, inplace=True)\n",
    "df.drop(\"Unnamed: 8\", axis=1, inplace=True)\n",
    "df.drop(\"Unnamed: 9\", axis=1, inplace=True)"
   ]
  },
  {
   "cell_type": "code",
   "execution_count": 56,
   "metadata": {},
   "outputs": [
    {
     "data": {
      "text/plain": [
       "Index(['UF', 'IBGE', 'NOME_MUNICIPIO', 'ENTIDADE', 'Adesão'], dtype='object')"
      ]
     },
     "execution_count": 56,
     "metadata": {},
     "output_type": "execute_result"
    }
   ],
   "source": [
    "#conferindo colunas \n",
    "df.columns"
   ]
  },
  {
   "cell_type": "code",
   "execution_count": 57,
   "metadata": {},
   "outputs": [],
   "source": [
    "#Mudando Sim e Não para 1 e 0\n",
    "df['Adesão'] = df['Adesão'].str.replace('Sim', '1')\n",
    "df['Adesão'] = df['Adesão'].str.replace('Não', '0').astype(int)"
   ]
  },
  {
   "cell_type": "code",
   "execution_count": 58,
   "metadata": {},
   "outputs": [],
   "source": [
    "#Excluindo as colunas entidade e nome municipio\n",
    "df.drop('ENTIDADE', inplace=True, axis=1)\n",
    "df.drop('NOME_MUNICIPIO', inplace=True, axis=1)"
   ]
  },
  {
   "cell_type": "code",
   "execution_count": 59,
   "metadata": {},
   "outputs": [],
   "source": [
    "#Agrupando por uf e ibge e somando\n",
    "df = df.groupby(['UF', 'IBGE']).sum().reset_index()"
   ]
  },
  {
   "cell_type": "code",
   "execution_count": 60,
   "metadata": {},
   "outputs": [
    {
     "data": {
      "text/html": [
       "<div>\n",
       "<style scoped>\n",
       "    .dataframe tbody tr th:only-of-type {\n",
       "        vertical-align: middle;\n",
       "    }\n",
       "\n",
       "    .dataframe tbody tr th {\n",
       "        vertical-align: top;\n",
       "    }\n",
       "\n",
       "    .dataframe thead th {\n",
       "        text-align: right;\n",
       "    }\n",
       "</style>\n",
       "<table border=\"1\" class=\"dataframe\">\n",
       "  <thead>\n",
       "    <tr style=\"text-align: right;\">\n",
       "      <th></th>\n",
       "      <th>UF</th>\n",
       "      <th>IBGE</th>\n",
       "      <th>Adesão</th>\n",
       "    </tr>\n",
       "  </thead>\n",
       "  <tbody>\n",
       "    <tr>\n",
       "      <th>0</th>\n",
       "      <td>AL</td>\n",
       "      <td>270010</td>\n",
       "      <td>1</td>\n",
       "    </tr>\n",
       "    <tr>\n",
       "      <th>1</th>\n",
       "      <td>AL</td>\n",
       "      <td>270020</td>\n",
       "      <td>0</td>\n",
       "    </tr>\n",
       "    <tr>\n",
       "      <th>2</th>\n",
       "      <td>AL</td>\n",
       "      <td>270030</td>\n",
       "      <td>1</td>\n",
       "    </tr>\n",
       "    <tr>\n",
       "      <th>3</th>\n",
       "      <td>AL</td>\n",
       "      <td>270040</td>\n",
       "      <td>1</td>\n",
       "    </tr>\n",
       "    <tr>\n",
       "      <th>4</th>\n",
       "      <td>AL</td>\n",
       "      <td>270050</td>\n",
       "      <td>1</td>\n",
       "    </tr>\n",
       "  </tbody>\n",
       "</table>\n",
       "</div>"
      ],
      "text/plain": [
       "   UF    IBGE  Adesão\n",
       "0  AL  270010       1\n",
       "1  AL  270020       0\n",
       "2  AL  270030       1\n",
       "3  AL  270040       1\n",
       "4  AL  270050       1"
      ]
     },
     "execution_count": 60,
     "metadata": {},
     "output_type": "execute_result"
    }
   ],
   "source": [
    "#conferindo dados\n",
    "df.head()"
   ]
  },
  {
   "cell_type": "code",
   "execution_count": 61,
   "metadata": {},
   "outputs": [
    {
     "data": {
      "text/html": [
       "<div>\n",
       "<style scoped>\n",
       "    .dataframe tbody tr th:only-of-type {\n",
       "        vertical-align: middle;\n",
       "    }\n",
       "\n",
       "    .dataframe tbody tr th {\n",
       "        vertical-align: top;\n",
       "    }\n",
       "\n",
       "    .dataframe thead th {\n",
       "        text-align: right;\n",
       "    }\n",
       "</style>\n",
       "<table border=\"1\" class=\"dataframe\">\n",
       "  <thead>\n",
       "    <tr style=\"text-align: right;\">\n",
       "      <th></th>\n",
       "      <th>UF</th>\n",
       "      <th>IBGE</th>\n",
       "      <th>Adesão</th>\n",
       "    </tr>\n",
       "  </thead>\n",
       "  <tbody>\n",
       "    <tr>\n",
       "      <th>1</th>\n",
       "      <td>AL</td>\n",
       "      <td>270020</td>\n",
       "      <td>0</td>\n",
       "    </tr>\n",
       "  </tbody>\n",
       "</table>\n",
       "</div>"
      ],
      "text/plain": [
       "   UF    IBGE  Adesão\n",
       "1  AL  270020       0"
      ]
     },
     "execution_count": 61,
     "metadata": {},
     "output_type": "execute_result"
    }
   ],
   "source": [
    "#Filtrando valor 270020\n",
    "df[df['IBGE'] == 270020]"
   ]
  },
  {
   "cell_type": "code",
   "execution_count": 62,
   "metadata": {},
   "outputs": [
    {
     "data": {
      "text/plain": [
       "1719"
      ]
     },
     "execution_count": 62,
     "metadata": {},
     "output_type": "execute_result"
    }
   ],
   "source": [
    "#verificando tamanho do dataframe\n",
    "len(df)"
   ]
  },
  {
   "cell_type": "code",
   "execution_count": 63,
   "metadata": {},
   "outputs": [],
   "source": [
    "#Mudando coluna adesão para string\n",
    "df['Adesão'] = df['Adesão'].astype(str)"
   ]
  },
  {
   "cell_type": "code",
   "execution_count": 64,
   "metadata": {},
   "outputs": [],
   "source": [
    "#Mudando 1 e 0 para Sim e Não\n",
    "df['Adesão'] = df['Adesão'].str.replace('1', 'Sim')\n",
    "df['Adesão'] = df['Adesão'].str.replace('0', 'Não')"
   ]
  },
  {
   "cell_type": "markdown",
   "metadata": {},
   "source": [
    "## Segundo dataframe pra trazer a coluna municipio"
   ]
  },
  {
   "cell_type": "code",
   "execution_count": 65,
   "metadata": {},
   "outputs": [
    {
     "name": "stderr",
     "output_type": "stream",
     "text": [
      "<>:2: SyntaxWarning: invalid escape sequence '\\R'\n",
      "<>:2: SyntaxWarning: invalid escape sequence '\\R'\n",
      "C:\\Users\\nicol\\AppData\\Local\\Temp\\ipykernel_6720\\2342887530.py:2: SyntaxWarning: invalid escape sequence '\\R'\n",
      "  df1 = pd.read_csv(\"Municipios csv\\Regiao nordeste.csv\", delimiter=\";\")\n"
     ]
    }
   ],
   "source": [
    "#subindo o arquivo csv\n",
    "df1 = pd.read_csv(\"Municipios csv\\Regiao nordeste.csv\", delimiter=\";\")"
   ]
  },
  {
   "cell_type": "code",
   "execution_count": 66,
   "metadata": {},
   "outputs": [
    {
     "data": {
      "text/html": [
       "<div>\n",
       "<style scoped>\n",
       "    .dataframe tbody tr th:only-of-type {\n",
       "        vertical-align: middle;\n",
       "    }\n",
       "\n",
       "    .dataframe tbody tr th {\n",
       "        vertical-align: top;\n",
       "    }\n",
       "\n",
       "    .dataframe thead th {\n",
       "        text-align: right;\n",
       "    }\n",
       "</style>\n",
       "<table border=\"1\" class=\"dataframe\">\n",
       "  <thead>\n",
       "    <tr style=\"text-align: right;\">\n",
       "      <th></th>\n",
       "      <th>UF</th>\n",
       "      <th>IBGE</th>\n",
       "      <th>NOME_MUNICIPIO</th>\n",
       "      <th>ENTIDADE</th>\n",
       "      <th>Adesão</th>\n",
       "      <th>Unnamed: 5</th>\n",
       "      <th>Unnamed: 6</th>\n",
       "      <th>Unnamed: 7</th>\n",
       "      <th>Unnamed: 8</th>\n",
       "      <th>Unnamed: 9</th>\n",
       "    </tr>\n",
       "  </thead>\n",
       "  <tbody>\n",
       "    <tr>\n",
       "      <th>0</th>\n",
       "      <td>CE</td>\n",
       "      <td>230010</td>\n",
       "      <td>ABAIARA</td>\n",
       "      <td>SECRETARIA MUNICIPAL DE SAUDE DE ABAIARA/CE</td>\n",
       "      <td>Sim</td>\n",
       "      <td>NaN</td>\n",
       "      <td>NaN</td>\n",
       "      <td>NaN</td>\n",
       "      <td>NaN</td>\n",
       "      <td>NaN</td>\n",
       "    </tr>\n",
       "    <tr>\n",
       "      <th>1</th>\n",
       "      <td>CE</td>\n",
       "      <td>230010</td>\n",
       "      <td>ABAIARA</td>\n",
       "      <td>NaN</td>\n",
       "      <td>Não</td>\n",
       "      <td>NaN</td>\n",
       "      <td>NaN</td>\n",
       "      <td>NaN</td>\n",
       "      <td>NaN</td>\n",
       "      <td>NaN</td>\n",
       "    </tr>\n",
       "    <tr>\n",
       "      <th>2</th>\n",
       "      <td>BA</td>\n",
       "      <td>290010</td>\n",
       "      <td>ABAÍRA</td>\n",
       "      <td>NaN</td>\n",
       "      <td>Não</td>\n",
       "      <td>NaN</td>\n",
       "      <td>NaN</td>\n",
       "      <td>NaN</td>\n",
       "      <td>NaN</td>\n",
       "      <td>NaN</td>\n",
       "    </tr>\n",
       "    <tr>\n",
       "      <th>3</th>\n",
       "      <td>BA</td>\n",
       "      <td>290020</td>\n",
       "      <td>ABARE</td>\n",
       "      <td>SECRETARIA MUNICIPAL DE SAUDE DE ABARE/BA</td>\n",
       "      <td>Sim</td>\n",
       "      <td>NaN</td>\n",
       "      <td>NaN</td>\n",
       "      <td>NaN</td>\n",
       "      <td>NaN</td>\n",
       "      <td>NaN</td>\n",
       "    </tr>\n",
       "    <tr>\n",
       "      <th>4</th>\n",
       "      <td>BA</td>\n",
       "      <td>290020</td>\n",
       "      <td>ABARÉ</td>\n",
       "      <td>NaN</td>\n",
       "      <td>Não</td>\n",
       "      <td>NaN</td>\n",
       "      <td>NaN</td>\n",
       "      <td>NaN</td>\n",
       "      <td>NaN</td>\n",
       "      <td>NaN</td>\n",
       "    </tr>\n",
       "  </tbody>\n",
       "</table>\n",
       "</div>"
      ],
      "text/plain": [
       "   UF    IBGE NOME_MUNICIPIO                                     ENTIDADE  \\\n",
       "0  CE  230010        ABAIARA  SECRETARIA MUNICIPAL DE SAUDE DE ABAIARA/CE   \n",
       "1  CE  230010        ABAIARA                                          NaN   \n",
       "2  BA  290010         ABAÍRA                                          NaN   \n",
       "3  BA  290020          ABARE    SECRETARIA MUNICIPAL DE SAUDE DE ABARE/BA   \n",
       "4  BA  290020          ABARÉ                                          NaN   \n",
       "\n",
       "  Adesão  Unnamed: 5  Unnamed: 6  Unnamed: 7  Unnamed: 8  Unnamed: 9  \n",
       "0    Sim         NaN         NaN         NaN         NaN         NaN  \n",
       "1    Não         NaN         NaN         NaN         NaN         NaN  \n",
       "2    Não         NaN         NaN         NaN         NaN         NaN  \n",
       "3    Sim         NaN         NaN         NaN         NaN         NaN  \n",
       "4    Não         NaN         NaN         NaN         NaN         NaN  "
      ]
     },
     "execution_count": 66,
     "metadata": {},
     "output_type": "execute_result"
    }
   ],
   "source": [
    "#conferindo dados\n",
    "df1.head()"
   ]
  },
  {
   "cell_type": "code",
   "execution_count": 67,
   "metadata": {},
   "outputs": [],
   "source": [
    "#Excluindo as colunas vazias\n",
    "df1.drop(\"Unnamed: 5\", axis=1, inplace=True)\n",
    "df1.drop(\"Unnamed: 6\", axis=1, inplace=True)\n",
    "df1.drop(\"Unnamed: 7\", axis=1, inplace=True)\n",
    "df1.drop(\"Unnamed: 8\", axis=1, inplace=True)\n",
    "df1.drop(\"Unnamed: 9\", axis=1, inplace=True)"
   ]
  },
  {
   "cell_type": "code",
   "execution_count": 68,
   "metadata": {},
   "outputs": [],
   "source": [
    "#excluindo as colunas uf, adesão e entidade\n",
    "df1.drop('UF', inplace=True, axis=1)\n",
    "df1.drop('Adesão', inplace=True, axis=1)\n",
    "df1.drop('ENTIDADE', inplace=True, axis=1)"
   ]
  },
  {
   "cell_type": "code",
   "execution_count": 69,
   "metadata": {},
   "outputs": [],
   "source": [
    "#excluindo duplicadas de ibge\n",
    "df1.drop_duplicates('IBGE', inplace=True)"
   ]
  },
  {
   "cell_type": "code",
   "execution_count": 70,
   "metadata": {},
   "outputs": [
    {
     "data": {
      "text/html": [
       "<div>\n",
       "<style scoped>\n",
       "    .dataframe tbody tr th:only-of-type {\n",
       "        vertical-align: middle;\n",
       "    }\n",
       "\n",
       "    .dataframe tbody tr th {\n",
       "        vertical-align: top;\n",
       "    }\n",
       "\n",
       "    .dataframe thead th {\n",
       "        text-align: right;\n",
       "    }\n",
       "</style>\n",
       "<table border=\"1\" class=\"dataframe\">\n",
       "  <thead>\n",
       "    <tr style=\"text-align: right;\">\n",
       "      <th></th>\n",
       "      <th>IBGE</th>\n",
       "      <th>NOME_MUNICIPIO</th>\n",
       "    </tr>\n",
       "  </thead>\n",
       "  <tbody>\n",
       "    <tr>\n",
       "      <th>0</th>\n",
       "      <td>230010</td>\n",
       "      <td>ABAIARA</td>\n",
       "    </tr>\n",
       "    <tr>\n",
       "      <th>2</th>\n",
       "      <td>290010</td>\n",
       "      <td>ABAÍRA</td>\n",
       "    </tr>\n",
       "    <tr>\n",
       "      <th>3</th>\n",
       "      <td>290020</td>\n",
       "      <td>ABARE</td>\n",
       "    </tr>\n",
       "    <tr>\n",
       "      <th>5</th>\n",
       "      <td>260005</td>\n",
       "      <td>ABREU E LIMA</td>\n",
       "    </tr>\n",
       "    <tr>\n",
       "      <th>6</th>\n",
       "      <td>210005</td>\n",
       "      <td>ACAILANDIA</td>\n",
       "    </tr>\n",
       "  </tbody>\n",
       "</table>\n",
       "</div>"
      ],
      "text/plain": [
       "     IBGE NOME_MUNICIPIO\n",
       "0  230010        ABAIARA\n",
       "2  290010         ABAÍRA\n",
       "3  290020          ABARE\n",
       "5  260005   ABREU E LIMA\n",
       "6  210005     ACAILANDIA"
      ]
     },
     "execution_count": 70,
     "metadata": {},
     "output_type": "execute_result"
    }
   ],
   "source": [
    "#conferindo dados\n",
    "df1.head()"
   ]
  },
  {
   "cell_type": "code",
   "execution_count": 71,
   "metadata": {},
   "outputs": [],
   "source": [
    "#unindo o primeiro com o segundo dataframe\n",
    "df = pd.merge(df, df1, on='IBGE')"
   ]
  },
  {
   "cell_type": "code",
   "execution_count": 72,
   "metadata": {},
   "outputs": [
    {
     "data": {
      "text/html": [
       "<div>\n",
       "<style scoped>\n",
       "    .dataframe tbody tr th:only-of-type {\n",
       "        vertical-align: middle;\n",
       "    }\n",
       "\n",
       "    .dataframe tbody tr th {\n",
       "        vertical-align: top;\n",
       "    }\n",
       "\n",
       "    .dataframe thead th {\n",
       "        text-align: right;\n",
       "    }\n",
       "</style>\n",
       "<table border=\"1\" class=\"dataframe\">\n",
       "  <thead>\n",
       "    <tr style=\"text-align: right;\">\n",
       "      <th></th>\n",
       "      <th>UF</th>\n",
       "      <th>IBGE</th>\n",
       "      <th>Adesão</th>\n",
       "      <th>NOME_MUNICIPIO</th>\n",
       "    </tr>\n",
       "  </thead>\n",
       "  <tbody>\n",
       "    <tr>\n",
       "      <th>1</th>\n",
       "      <td>AL</td>\n",
       "      <td>270020</td>\n",
       "      <td>Não</td>\n",
       "      <td>ANADIA</td>\n",
       "    </tr>\n",
       "  </tbody>\n",
       "</table>\n",
       "</div>"
      ],
      "text/plain": [
       "   UF    IBGE Adesão NOME_MUNICIPIO\n",
       "1  AL  270020    Não         ANADIA"
      ]
     },
     "execution_count": 72,
     "metadata": {},
     "output_type": "execute_result"
    }
   ],
   "source": [
    "#filtrando o valor 270020\n",
    "df[df['IBGE'] == 270020]"
   ]
  },
  {
   "cell_type": "markdown",
   "metadata": {},
   "source": [
    "## Terceiro dataframe pra trazer a coluna ENTIDADE"
   ]
  },
  {
   "cell_type": "code",
   "execution_count": 73,
   "metadata": {},
   "outputs": [
    {
     "name": "stderr",
     "output_type": "stream",
     "text": [
      "<>:2: SyntaxWarning: invalid escape sequence '\\R'\n",
      "<>:2: SyntaxWarning: invalid escape sequence '\\R'\n",
      "C:\\Users\\nicol\\AppData\\Local\\Temp\\ipykernel_6720\\1468746313.py:2: SyntaxWarning: invalid escape sequence '\\R'\n",
      "  df2 = pd.read_csv(\"Municipios csv\\Regiao nordeste.csv\", delimiter=\";\")\n"
     ]
    }
   ],
   "source": [
    "#subindo o arquivo csv\n",
    "df2 = pd.read_csv(\"Municipios csv\\Regiao nordeste.csv\", delimiter=\";\")"
   ]
  },
  {
   "cell_type": "code",
   "execution_count": 74,
   "metadata": {},
   "outputs": [],
   "source": [
    "#Excluindo as colunas vazias\n",
    "df2.drop(\"Unnamed: 5\", axis=1, inplace=True)\n",
    "df2.drop(\"Unnamed: 6\", axis=1, inplace=True)\n",
    "df2.drop(\"Unnamed: 7\", axis=1, inplace=True)\n",
    "df2.drop(\"Unnamed: 8\", axis=1, inplace=True)\n",
    "df2.drop(\"Unnamed: 9\", axis=1, inplace=True)"
   ]
  },
  {
   "cell_type": "code",
   "execution_count": 75,
   "metadata": {},
   "outputs": [
    {
     "data": {
      "text/html": [
       "<div>\n",
       "<style scoped>\n",
       "    .dataframe tbody tr th:only-of-type {\n",
       "        vertical-align: middle;\n",
       "    }\n",
       "\n",
       "    .dataframe tbody tr th {\n",
       "        vertical-align: top;\n",
       "    }\n",
       "\n",
       "    .dataframe thead th {\n",
       "        text-align: right;\n",
       "    }\n",
       "</style>\n",
       "<table border=\"1\" class=\"dataframe\">\n",
       "  <thead>\n",
       "    <tr style=\"text-align: right;\">\n",
       "      <th></th>\n",
       "      <th>UF</th>\n",
       "      <th>IBGE</th>\n",
       "      <th>NOME_MUNICIPIO</th>\n",
       "      <th>ENTIDADE</th>\n",
       "      <th>Adesão</th>\n",
       "    </tr>\n",
       "  </thead>\n",
       "  <tbody>\n",
       "    <tr>\n",
       "      <th>0</th>\n",
       "      <td>CE</td>\n",
       "      <td>230010</td>\n",
       "      <td>ABAIARA</td>\n",
       "      <td>SECRETARIA MUNICIPAL DE SAUDE DE ABAIARA/CE</td>\n",
       "      <td>Sim</td>\n",
       "    </tr>\n",
       "    <tr>\n",
       "      <th>1</th>\n",
       "      <td>CE</td>\n",
       "      <td>230010</td>\n",
       "      <td>ABAIARA</td>\n",
       "      <td>NaN</td>\n",
       "      <td>Não</td>\n",
       "    </tr>\n",
       "    <tr>\n",
       "      <th>2</th>\n",
       "      <td>BA</td>\n",
       "      <td>290010</td>\n",
       "      <td>ABAÍRA</td>\n",
       "      <td>NaN</td>\n",
       "      <td>Não</td>\n",
       "    </tr>\n",
       "    <tr>\n",
       "      <th>3</th>\n",
       "      <td>BA</td>\n",
       "      <td>290020</td>\n",
       "      <td>ABARE</td>\n",
       "      <td>SECRETARIA MUNICIPAL DE SAUDE DE ABARE/BA</td>\n",
       "      <td>Sim</td>\n",
       "    </tr>\n",
       "    <tr>\n",
       "      <th>4</th>\n",
       "      <td>BA</td>\n",
       "      <td>290020</td>\n",
       "      <td>ABARÉ</td>\n",
       "      <td>NaN</td>\n",
       "      <td>Não</td>\n",
       "    </tr>\n",
       "  </tbody>\n",
       "</table>\n",
       "</div>"
      ],
      "text/plain": [
       "   UF    IBGE NOME_MUNICIPIO                                     ENTIDADE  \\\n",
       "0  CE  230010        ABAIARA  SECRETARIA MUNICIPAL DE SAUDE DE ABAIARA/CE   \n",
       "1  CE  230010        ABAIARA                                          NaN   \n",
       "2  BA  290010         ABAÍRA                                          NaN   \n",
       "3  BA  290020          ABARE    SECRETARIA MUNICIPAL DE SAUDE DE ABARE/BA   \n",
       "4  BA  290020          ABARÉ                                          NaN   \n",
       "\n",
       "  Adesão  \n",
       "0    Sim  \n",
       "1    Não  \n",
       "2    Não  \n",
       "3    Sim  \n",
       "4    Não  "
      ]
     },
     "execution_count": 75,
     "metadata": {},
     "output_type": "execute_result"
    }
   ],
   "source": [
    "#conferindo dados\n",
    "df2.head()"
   ]
  },
  {
   "cell_type": "code",
   "execution_count": 76,
   "metadata": {},
   "outputs": [],
   "source": [
    "#excluindo as colunas uf, adesão e nome municipio\n",
    "df2.drop('UF', inplace=True, axis=1)\n",
    "df2.drop('Adesão', inplace=True, axis=1)\n",
    "df2.drop('NOME_MUNICIPIO', inplace=True, axis=1)"
   ]
  },
  {
   "cell_type": "code",
   "execution_count": 77,
   "metadata": {},
   "outputs": [],
   "source": [
    "#excluindo duplicadas de ibge e excluindo valores nulos\n",
    "df2.drop_duplicates('IBGE', inplace=True)\n",
    "df2.dropna(inplace=True)"
   ]
  },
  {
   "cell_type": "code",
   "execution_count": 78,
   "metadata": {},
   "outputs": [],
   "source": [
    "#unindo com a primeira tabela\n",
    "df = pd.merge(df, df2, on='IBGE', how='left')"
   ]
  },
  {
   "cell_type": "code",
   "execution_count": 79,
   "metadata": {},
   "outputs": [
    {
     "data": {
      "text/plain": [
       "1719"
      ]
     },
     "execution_count": 79,
     "metadata": {},
     "output_type": "execute_result"
    }
   ],
   "source": [
    "len(df)"
   ]
  },
  {
   "cell_type": "code",
   "execution_count": 80,
   "metadata": {},
   "outputs": [
    {
     "name": "stderr",
     "output_type": "stream",
     "text": [
      "<>:2: SyntaxWarning: invalid escape sequence '\\R'\n",
      "<>:2: SyntaxWarning: invalid escape sequence '\\R'\n",
      "C:\\Users\\nicol\\AppData\\Local\\Temp\\ipykernel_6720\\2619076136.py:2: SyntaxWarning: invalid escape sequence '\\R'\n",
      "  df.to_csv(\"Municipios csv\\Regiao nordeste filtrado.csv\", sep=';', index=False)\n"
     ]
    }
   ],
   "source": [
    "#transformando em csv\n",
    "df.to_csv(\"Municipios csv\\Regiao nordeste filtrado.csv\", sep=';', index=False)"
   ]
  }
 ],
 "metadata": {
  "kernelspec": {
   "display_name": "venv",
   "language": "python",
   "name": "python3"
  },
  "language_info": {
   "codemirror_mode": {
    "name": "ipython",
    "version": 3
   },
   "file_extension": ".py",
   "mimetype": "text/x-python",
   "name": "python",
   "nbconvert_exporter": "python",
   "pygments_lexer": "ipython3",
   "version": "3.13.0"
  }
 },
 "nbformat": 4,
 "nbformat_minor": 2
}
