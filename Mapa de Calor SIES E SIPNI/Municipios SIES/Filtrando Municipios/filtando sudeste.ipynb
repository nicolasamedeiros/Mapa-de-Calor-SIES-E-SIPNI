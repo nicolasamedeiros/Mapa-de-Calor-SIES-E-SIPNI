{
 "cells": [
  {
   "cell_type": "code",
   "execution_count": 8,
   "metadata": {},
   "outputs": [],
   "source": [
    "import pandas as pd"
   ]
  },
  {
   "cell_type": "code",
   "execution_count": 9,
   "metadata": {},
   "outputs": [
    {
     "name": "stderr",
     "output_type": "stream",
     "text": [
      "<>:2: SyntaxWarning: invalid escape sequence '\\R'\n",
      "<>:2: SyntaxWarning: invalid escape sequence '\\R'\n",
      "C:\\Users\\nicol\\AppData\\Local\\Temp\\ipykernel_12588\\1159643741.py:2: SyntaxWarning: invalid escape sequence '\\R'\n",
      "  df = pd.read_csv('Municipios csv\\Regiao sudeste.csv', delimiter=';')\n"
     ]
    }
   ],
   "source": [
    "#subindo o arquivo csv\n",
    "df = pd.read_csv('Municipios csv\\Regiao sudeste.csv', delimiter=';')"
   ]
  },
  {
   "cell_type": "code",
   "execution_count": 10,
   "metadata": {},
   "outputs": [
    {
     "data": {
      "text/html": [
       "<div>\n",
       "<style scoped>\n",
       "    .dataframe tbody tr th:only-of-type {\n",
       "        vertical-align: middle;\n",
       "    }\n",
       "\n",
       "    .dataframe tbody tr th {\n",
       "        vertical-align: top;\n",
       "    }\n",
       "\n",
       "    .dataframe thead th {\n",
       "        text-align: right;\n",
       "    }\n",
       "</style>\n",
       "<table border=\"1\" class=\"dataframe\">\n",
       "  <thead>\n",
       "    <tr style=\"text-align: right;\">\n",
       "      <th></th>\n",
       "      <th>UF</th>\n",
       "      <th>IBGE</th>\n",
       "      <th>NOME_MUNICIPIO</th>\n",
       "      <th>ENTIDADE</th>\n",
       "      <th>Adesão</th>\n",
       "    </tr>\n",
       "  </thead>\n",
       "  <tbody>\n",
       "    <tr>\n",
       "      <th>0</th>\n",
       "      <td>MG</td>\n",
       "      <td>310010</td>\n",
       "      <td>ABADIA DOS DOURADOS</td>\n",
       "      <td>SECRETARIA MUNICIPAL DE SAUDE DE CONGONHAS DO ...</td>\n",
       "      <td>Sim</td>\n",
       "    </tr>\n",
       "    <tr>\n",
       "      <th>1</th>\n",
       "      <td>MG</td>\n",
       "      <td>310020</td>\n",
       "      <td>ABAETE</td>\n",
       "      <td>SECRETARIA MUNICIPAL DE SAUDE DE ABAETE/MG</td>\n",
       "      <td>Sim</td>\n",
       "    </tr>\n",
       "    <tr>\n",
       "      <th>2</th>\n",
       "      <td>MG</td>\n",
       "      <td>310020</td>\n",
       "      <td>ABAETÉ</td>\n",
       "      <td>SECRETARIA MUNICIPAL DE SAUDE DE LEME DO PRADO/MG</td>\n",
       "      <td>Sim</td>\n",
       "    </tr>\n",
       "    <tr>\n",
       "      <th>3</th>\n",
       "      <td>MG</td>\n",
       "      <td>310030</td>\n",
       "      <td>ABRE CAMPO</td>\n",
       "      <td>SECRETARIA MUNICIPAL DE SAUDE DE INHAPIM/MG</td>\n",
       "      <td>Sim</td>\n",
       "    </tr>\n",
       "    <tr>\n",
       "      <th>4</th>\n",
       "      <td>MG</td>\n",
       "      <td>310040</td>\n",
       "      <td>ACAIACA</td>\n",
       "      <td>NaN</td>\n",
       "      <td>Não</td>\n",
       "    </tr>\n",
       "  </tbody>\n",
       "</table>\n",
       "</div>"
      ],
      "text/plain": [
       "   UF    IBGE       NOME_MUNICIPIO  \\\n",
       "0  MG  310010  ABADIA DOS DOURADOS   \n",
       "1  MG  310020               ABAETE   \n",
       "2  MG  310020               ABAETÉ   \n",
       "3  MG  310030           ABRE CAMPO   \n",
       "4  MG  310040              ACAIACA   \n",
       "\n",
       "                                            ENTIDADE Adesão  \n",
       "0  SECRETARIA MUNICIPAL DE SAUDE DE CONGONHAS DO ...    Sim  \n",
       "1         SECRETARIA MUNICIPAL DE SAUDE DE ABAETE/MG    Sim  \n",
       "2  SECRETARIA MUNICIPAL DE SAUDE DE LEME DO PRADO/MG    Sim  \n",
       "3        SECRETARIA MUNICIPAL DE SAUDE DE INHAPIM/MG    Sim  \n",
       "4                                                NaN    Não  "
      ]
     },
     "execution_count": 10,
     "metadata": {},
     "output_type": "execute_result"
    }
   ],
   "source": [
    "#conferindo dados\n",
    "df.head()"
   ]
  },
  {
   "cell_type": "code",
   "execution_count": 11,
   "metadata": {},
   "outputs": [],
   "source": [
    "#Mudando Sim e Não para 1 e 0\n",
    "df[\"Adesão\"] = df[\"Adesão\"].str.replace('Sim', '1')\n",
    "df[\"Adesão\"] = df[\"Adesão\"].str.replace('Não', '0').astype(int)"
   ]
  },
  {
   "cell_type": "code",
   "execution_count": 12,
   "metadata": {},
   "outputs": [],
   "source": [
    "#Excluindo as colunas entidade e nome municipio\n",
    "df.drop('ENTIDADE', inplace=True, axis=1)\n",
    "df.drop('NOME_MUNICIPIO', inplace=True, axis=1)"
   ]
  },
  {
   "cell_type": "code",
   "execution_count": 13,
   "metadata": {},
   "outputs": [],
   "source": [
    "#Agrupando por uf e ibge e somando\n",
    "df = df.groupby(['UF', 'IBGE']).sum().reset_index()"
   ]
  },
  {
   "cell_type": "code",
   "execution_count": 14,
   "metadata": {},
   "outputs": [
    {
     "data": {
      "text/html": [
       "<div>\n",
       "<style scoped>\n",
       "    .dataframe tbody tr th:only-of-type {\n",
       "        vertical-align: middle;\n",
       "    }\n",
       "\n",
       "    .dataframe tbody tr th {\n",
       "        vertical-align: top;\n",
       "    }\n",
       "\n",
       "    .dataframe thead th {\n",
       "        text-align: right;\n",
       "    }\n",
       "</style>\n",
       "<table border=\"1\" class=\"dataframe\">\n",
       "  <thead>\n",
       "    <tr style=\"text-align: right;\">\n",
       "      <th></th>\n",
       "      <th>UF</th>\n",
       "      <th>IBGE</th>\n",
       "      <th>Adesão</th>\n",
       "    </tr>\n",
       "  </thead>\n",
       "  <tbody>\n",
       "    <tr>\n",
       "      <th>0</th>\n",
       "      <td>ES</td>\n",
       "      <td>320010</td>\n",
       "      <td>1</td>\n",
       "    </tr>\n",
       "    <tr>\n",
       "      <th>1</th>\n",
       "      <td>ES</td>\n",
       "      <td>320013</td>\n",
       "      <td>0</td>\n",
       "    </tr>\n",
       "    <tr>\n",
       "      <th>2</th>\n",
       "      <td>ES</td>\n",
       "      <td>320016</td>\n",
       "      <td>0</td>\n",
       "    </tr>\n",
       "    <tr>\n",
       "      <th>3</th>\n",
       "      <td>ES</td>\n",
       "      <td>320020</td>\n",
       "      <td>0</td>\n",
       "    </tr>\n",
       "    <tr>\n",
       "      <th>4</th>\n",
       "      <td>ES</td>\n",
       "      <td>320030</td>\n",
       "      <td>0</td>\n",
       "    </tr>\n",
       "  </tbody>\n",
       "</table>\n",
       "</div>"
      ],
      "text/plain": [
       "   UF    IBGE  Adesão\n",
       "0  ES  320010       1\n",
       "1  ES  320013       0\n",
       "2  ES  320016       0\n",
       "3  ES  320020       0\n",
       "4  ES  320030       0"
      ]
     },
     "execution_count": 14,
     "metadata": {},
     "output_type": "execute_result"
    }
   ],
   "source": [
    "#conferindo dados\n",
    "df.head()"
   ]
  },
  {
   "cell_type": "code",
   "execution_count": 15,
   "metadata": {},
   "outputs": [
    {
     "data": {
      "text/html": [
       "<div>\n",
       "<style scoped>\n",
       "    .dataframe tbody tr th:only-of-type {\n",
       "        vertical-align: middle;\n",
       "    }\n",
       "\n",
       "    .dataframe tbody tr th {\n",
       "        vertical-align: top;\n",
       "    }\n",
       "\n",
       "    .dataframe thead th {\n",
       "        text-align: right;\n",
       "    }\n",
       "</style>\n",
       "<table border=\"1\" class=\"dataframe\">\n",
       "  <thead>\n",
       "    <tr style=\"text-align: right;\">\n",
       "      <th></th>\n",
       "      <th>UF</th>\n",
       "      <th>IBGE</th>\n",
       "      <th>Adesão</th>\n",
       "    </tr>\n",
       "  </thead>\n",
       "  <tbody>\n",
       "  </tbody>\n",
       "</table>\n",
       "</div>"
      ],
      "text/plain": [
       "Empty DataFrame\n",
       "Columns: [UF, IBGE, Adesão]\n",
       "Index: []"
      ]
     },
     "execution_count": 15,
     "metadata": {},
     "output_type": "execute_result"
    }
   ],
   "source": [
    "#Filtrando valor 320016\n",
    "df[df['IBGE'] == 320016]"
   ]
  },
  {
   "cell_type": "code",
   "execution_count": 16,
   "metadata": {},
   "outputs": [
    {
     "data": {
      "text/plain": [
       "1669"
      ]
     },
     "execution_count": 16,
     "metadata": {},
     "output_type": "execute_result"
    }
   ],
   "source": [
    "#verificando tamanho do dataframe\n",
    "len(df)"
   ]
  },
  {
   "cell_type": "code",
   "execution_count": 17,
   "metadata": {},
   "outputs": [],
   "source": [
    "#Mudando coluna adesão para string\n",
    "df[\"Adesão\"] = df[\"Adesão\"].astype(str)"
   ]
  },
  {
   "cell_type": "code",
   "execution_count": 18,
   "metadata": {},
   "outputs": [],
   "source": [
    "#Mudando 1 e 0 para Sim e Não\n",
    "df[\"Adesão\"] = df[\"Adesão\"].str.replace('1', 'Sim')\n",
    "df[\"Adesão\"] = df[\"Adesão\"].str.replace('0', 'Não')"
   ]
  },
  {
   "cell_type": "markdown",
   "metadata": {},
   "source": [
    "## Segundo dataframe pra trazer a coluna municipio"
   ]
  },
  {
   "cell_type": "code",
   "execution_count": 19,
   "metadata": {},
   "outputs": [
    {
     "name": "stderr",
     "output_type": "stream",
     "text": [
      "<>:2: SyntaxWarning: invalid escape sequence '\\R'\n",
      "<>:2: SyntaxWarning: invalid escape sequence '\\R'\n",
      "C:\\Users\\nicol\\AppData\\Local\\Temp\\ipykernel_12588\\3357797378.py:2: SyntaxWarning: invalid escape sequence '\\R'\n",
      "  df1 = pd.read_csv('Municipios csv\\Regiao sudeste.csv', delimiter=';')\n"
     ]
    }
   ],
   "source": [
    "#subindo o arquivo csv\n",
    "df1 = pd.read_csv('Municipios csv\\Regiao sudeste.csv', delimiter=';')"
   ]
  },
  {
   "cell_type": "code",
   "execution_count": 20,
   "metadata": {},
   "outputs": [
    {
     "data": {
      "text/html": [
       "<div>\n",
       "<style scoped>\n",
       "    .dataframe tbody tr th:only-of-type {\n",
       "        vertical-align: middle;\n",
       "    }\n",
       "\n",
       "    .dataframe tbody tr th {\n",
       "        vertical-align: top;\n",
       "    }\n",
       "\n",
       "    .dataframe thead th {\n",
       "        text-align: right;\n",
       "    }\n",
       "</style>\n",
       "<table border=\"1\" class=\"dataframe\">\n",
       "  <thead>\n",
       "    <tr style=\"text-align: right;\">\n",
       "      <th></th>\n",
       "      <th>UF</th>\n",
       "      <th>IBGE</th>\n",
       "      <th>NOME_MUNICIPIO</th>\n",
       "      <th>ENTIDADE</th>\n",
       "      <th>Adesão</th>\n",
       "    </tr>\n",
       "  </thead>\n",
       "  <tbody>\n",
       "    <tr>\n",
       "      <th>0</th>\n",
       "      <td>MG</td>\n",
       "      <td>310010</td>\n",
       "      <td>ABADIA DOS DOURADOS</td>\n",
       "      <td>SECRETARIA MUNICIPAL DE SAUDE DE CONGONHAS DO ...</td>\n",
       "      <td>Sim</td>\n",
       "    </tr>\n",
       "    <tr>\n",
       "      <th>1</th>\n",
       "      <td>MG</td>\n",
       "      <td>310020</td>\n",
       "      <td>ABAETE</td>\n",
       "      <td>SECRETARIA MUNICIPAL DE SAUDE DE ABAETE/MG</td>\n",
       "      <td>Sim</td>\n",
       "    </tr>\n",
       "    <tr>\n",
       "      <th>2</th>\n",
       "      <td>MG</td>\n",
       "      <td>310020</td>\n",
       "      <td>ABAETÉ</td>\n",
       "      <td>SECRETARIA MUNICIPAL DE SAUDE DE LEME DO PRADO/MG</td>\n",
       "      <td>Sim</td>\n",
       "    </tr>\n",
       "    <tr>\n",
       "      <th>3</th>\n",
       "      <td>MG</td>\n",
       "      <td>310030</td>\n",
       "      <td>ABRE CAMPO</td>\n",
       "      <td>SECRETARIA MUNICIPAL DE SAUDE DE INHAPIM/MG</td>\n",
       "      <td>Sim</td>\n",
       "    </tr>\n",
       "    <tr>\n",
       "      <th>4</th>\n",
       "      <td>MG</td>\n",
       "      <td>310040</td>\n",
       "      <td>ACAIACA</td>\n",
       "      <td>NaN</td>\n",
       "      <td>Não</td>\n",
       "    </tr>\n",
       "  </tbody>\n",
       "</table>\n",
       "</div>"
      ],
      "text/plain": [
       "   UF    IBGE       NOME_MUNICIPIO  \\\n",
       "0  MG  310010  ABADIA DOS DOURADOS   \n",
       "1  MG  310020               ABAETE   \n",
       "2  MG  310020               ABAETÉ   \n",
       "3  MG  310030           ABRE CAMPO   \n",
       "4  MG  310040              ACAIACA   \n",
       "\n",
       "                                            ENTIDADE Adesão  \n",
       "0  SECRETARIA MUNICIPAL DE SAUDE DE CONGONHAS DO ...    Sim  \n",
       "1         SECRETARIA MUNICIPAL DE SAUDE DE ABAETE/MG    Sim  \n",
       "2  SECRETARIA MUNICIPAL DE SAUDE DE LEME DO PRADO/MG    Sim  \n",
       "3        SECRETARIA MUNICIPAL DE SAUDE DE INHAPIM/MG    Sim  \n",
       "4                                                NaN    Não  "
      ]
     },
     "execution_count": 20,
     "metadata": {},
     "output_type": "execute_result"
    }
   ],
   "source": [
    "#conferindo dados\n",
    "df1.head()"
   ]
  },
  {
   "cell_type": "code",
   "execution_count": 21,
   "metadata": {},
   "outputs": [],
   "source": [
    "#excluindo as colunas uf, adesão e entidade\n",
    "df1.drop('UF', inplace=True, axis=1)\n",
    "df1.drop('Adesão', inplace=True, axis=1)\n",
    "df1.drop('ENTIDADE', inplace=True, axis=1)"
   ]
  },
  {
   "cell_type": "code",
   "execution_count": 22,
   "metadata": {},
   "outputs": [],
   "source": [
    "#excluindo duplicadas de ibge\n",
    "df1.drop_duplicates('IBGE', inplace=True)"
   ]
  },
  {
   "cell_type": "code",
   "execution_count": 23,
   "metadata": {},
   "outputs": [
    {
     "data": {
      "text/html": [
       "<div>\n",
       "<style scoped>\n",
       "    .dataframe tbody tr th:only-of-type {\n",
       "        vertical-align: middle;\n",
       "    }\n",
       "\n",
       "    .dataframe tbody tr th {\n",
       "        vertical-align: top;\n",
       "    }\n",
       "\n",
       "    .dataframe thead th {\n",
       "        text-align: right;\n",
       "    }\n",
       "</style>\n",
       "<table border=\"1\" class=\"dataframe\">\n",
       "  <thead>\n",
       "    <tr style=\"text-align: right;\">\n",
       "      <th></th>\n",
       "      <th>IBGE</th>\n",
       "      <th>NOME_MUNICIPIO</th>\n",
       "    </tr>\n",
       "  </thead>\n",
       "  <tbody>\n",
       "    <tr>\n",
       "      <th>0</th>\n",
       "      <td>310010</td>\n",
       "      <td>ABADIA DOS DOURADOS</td>\n",
       "    </tr>\n",
       "    <tr>\n",
       "      <th>1</th>\n",
       "      <td>310020</td>\n",
       "      <td>ABAETE</td>\n",
       "    </tr>\n",
       "    <tr>\n",
       "      <th>3</th>\n",
       "      <td>310030</td>\n",
       "      <td>ABRE CAMPO</td>\n",
       "    </tr>\n",
       "    <tr>\n",
       "      <th>4</th>\n",
       "      <td>310040</td>\n",
       "      <td>ACAIACA</td>\n",
       "    </tr>\n",
       "    <tr>\n",
       "      <th>5</th>\n",
       "      <td>310050</td>\n",
       "      <td>AÇUCENA</td>\n",
       "    </tr>\n",
       "  </tbody>\n",
       "</table>\n",
       "</div>"
      ],
      "text/plain": [
       "     IBGE       NOME_MUNICIPIO\n",
       "0  310010  ABADIA DOS DOURADOS\n",
       "1  310020               ABAETE\n",
       "3  310030           ABRE CAMPO\n",
       "4  310040              ACAIACA\n",
       "5  310050              AÇUCENA"
      ]
     },
     "execution_count": 23,
     "metadata": {},
     "output_type": "execute_result"
    }
   ],
   "source": [
    "#conferindo dados\n",
    "df1.head()"
   ]
  },
  {
   "cell_type": "code",
   "execution_count": 24,
   "metadata": {},
   "outputs": [],
   "source": [
    "#unindo o primeiro com o segundo dataframe\n",
    "df = pd.merge(df, df1, on='IBGE')"
   ]
  },
  {
   "cell_type": "code",
   "execution_count": 25,
   "metadata": {},
   "outputs": [
    {
     "data": {
      "text/html": [
       "<div>\n",
       "<style scoped>\n",
       "    .dataframe tbody tr th:only-of-type {\n",
       "        vertical-align: middle;\n",
       "    }\n",
       "\n",
       "    .dataframe tbody tr th {\n",
       "        vertical-align: top;\n",
       "    }\n",
       "\n",
       "    .dataframe thead th {\n",
       "        text-align: right;\n",
       "    }\n",
       "</style>\n",
       "<table border=\"1\" class=\"dataframe\">\n",
       "  <thead>\n",
       "    <tr style=\"text-align: right;\">\n",
       "      <th></th>\n",
       "      <th>UF</th>\n",
       "      <th>IBGE</th>\n",
       "      <th>Adesão</th>\n",
       "      <th>NOME_MUNICIPIO</th>\n",
       "    </tr>\n",
       "  </thead>\n",
       "  <tbody>\n",
       "  </tbody>\n",
       "</table>\n",
       "</div>"
      ],
      "text/plain": [
       "Empty DataFrame\n",
       "Columns: [UF, IBGE, Adesão, NOME_MUNICIPIO]\n",
       "Index: []"
      ]
     },
     "execution_count": 25,
     "metadata": {},
     "output_type": "execute_result"
    }
   ],
   "source": [
    "#Filtrando valor 320016\n",
    "df[df['IBGE'] == 320016]"
   ]
  },
  {
   "cell_type": "code",
   "execution_count": 26,
   "metadata": {},
   "outputs": [
    {
     "data": {
      "text/html": [
       "<div>\n",
       "<style scoped>\n",
       "    .dataframe tbody tr th:only-of-type {\n",
       "        vertical-align: middle;\n",
       "    }\n",
       "\n",
       "    .dataframe tbody tr th {\n",
       "        vertical-align: top;\n",
       "    }\n",
       "\n",
       "    .dataframe thead th {\n",
       "        text-align: right;\n",
       "    }\n",
       "</style>\n",
       "<table border=\"1\" class=\"dataframe\">\n",
       "  <thead>\n",
       "    <tr style=\"text-align: right;\">\n",
       "      <th></th>\n",
       "      <th>UF</th>\n",
       "      <th>IBGE</th>\n",
       "      <th>Adesão</th>\n",
       "      <th>NOME_MUNICIPIO</th>\n",
       "    </tr>\n",
       "  </thead>\n",
       "  <tbody>\n",
       "    <tr>\n",
       "      <th>0</th>\n",
       "      <td>ES</td>\n",
       "      <td>320010</td>\n",
       "      <td>Sim</td>\n",
       "      <td>AFONSO CLAUDIO</td>\n",
       "    </tr>\n",
       "    <tr>\n",
       "      <th>1</th>\n",
       "      <td>ES</td>\n",
       "      <td>320013</td>\n",
       "      <td>Não</td>\n",
       "      <td>ÁGUIA BRANCA</td>\n",
       "    </tr>\n",
       "    <tr>\n",
       "      <th>2</th>\n",
       "      <td>ES</td>\n",
       "      <td>320016</td>\n",
       "      <td>Não</td>\n",
       "      <td>ÁGUA DOCE DO NORTE</td>\n",
       "    </tr>\n",
       "    <tr>\n",
       "      <th>3</th>\n",
       "      <td>ES</td>\n",
       "      <td>320020</td>\n",
       "      <td>Não</td>\n",
       "      <td>ALEGRE</td>\n",
       "    </tr>\n",
       "    <tr>\n",
       "      <th>4</th>\n",
       "      <td>ES</td>\n",
       "      <td>320030</td>\n",
       "      <td>Não</td>\n",
       "      <td>ALFREDO CHAVES</td>\n",
       "    </tr>\n",
       "  </tbody>\n",
       "</table>\n",
       "</div>"
      ],
      "text/plain": [
       "   UF    IBGE Adesão      NOME_MUNICIPIO\n",
       "0  ES  320010    Sim      AFONSO CLAUDIO\n",
       "1  ES  320013    Não        ÁGUIA BRANCA\n",
       "2  ES  320016    Não  ÁGUA DOCE DO NORTE\n",
       "3  ES  320020    Não              ALEGRE\n",
       "4  ES  320030    Não      ALFREDO CHAVES"
      ]
     },
     "execution_count": 26,
     "metadata": {},
     "output_type": "execute_result"
    }
   ],
   "source": [
    "#conferindo dados\n",
    "df.head()"
   ]
  },
  {
   "cell_type": "markdown",
   "metadata": {},
   "source": [
    "## Terceiro dataframe pra trazer a coluna ENTIDADE"
   ]
  },
  {
   "cell_type": "code",
   "execution_count": 27,
   "metadata": {},
   "outputs": [
    {
     "name": "stderr",
     "output_type": "stream",
     "text": [
      "<>:2: SyntaxWarning: invalid escape sequence '\\R'\n",
      "<>:2: SyntaxWarning: invalid escape sequence '\\R'\n",
      "C:\\Users\\nicol\\AppData\\Local\\Temp\\ipykernel_12588\\3688148543.py:2: SyntaxWarning: invalid escape sequence '\\R'\n",
      "  df2 = pd.read_csv('Municipios csv\\Regiao sudeste.csv', delimiter=';')\n"
     ]
    }
   ],
   "source": [
    "#subindo o arquivo csv\n",
    "df2 = pd.read_csv('Municipios csv\\Regiao sudeste.csv', delimiter=';')"
   ]
  },
  {
   "cell_type": "code",
   "execution_count": 28,
   "metadata": {},
   "outputs": [],
   "source": [
    "#excluindo as colunas uf, adesão e nome municipio\n",
    "df2.drop('UF', inplace=True, axis=1)\n",
    "df2.drop('Adesão', inplace=True, axis=1)\n",
    "df2.drop('NOME_MUNICIPIO', inplace=True, axis=1)"
   ]
  },
  {
   "cell_type": "code",
   "execution_count": 29,
   "metadata": {},
   "outputs": [],
   "source": [
    "#excluindo duplicadas de ibge e excluindo valores nulos\n",
    "df2.drop_duplicates('IBGE', inplace=True)\n",
    "df2.dropna(inplace=True)"
   ]
  },
  {
   "cell_type": "code",
   "execution_count": 30,
   "metadata": {},
   "outputs": [],
   "source": [
    "#unindo com a primeira tabela\n",
    "df = pd.merge(df, df2, on='IBGE', how='left')"
   ]
  },
  {
   "cell_type": "code",
   "execution_count": 31,
   "metadata": {},
   "outputs": [
    {
     "data": {
      "text/html": [
       "<div>\n",
       "<style scoped>\n",
       "    .dataframe tbody tr th:only-of-type {\n",
       "        vertical-align: middle;\n",
       "    }\n",
       "\n",
       "    .dataframe tbody tr th {\n",
       "        vertical-align: top;\n",
       "    }\n",
       "\n",
       "    .dataframe thead th {\n",
       "        text-align: right;\n",
       "    }\n",
       "</style>\n",
       "<table border=\"1\" class=\"dataframe\">\n",
       "  <thead>\n",
       "    <tr style=\"text-align: right;\">\n",
       "      <th></th>\n",
       "      <th>UF</th>\n",
       "      <th>IBGE</th>\n",
       "      <th>Adesão</th>\n",
       "      <th>NOME_MUNICIPIO</th>\n",
       "      <th>ENTIDADE</th>\n",
       "    </tr>\n",
       "  </thead>\n",
       "  <tbody>\n",
       "    <tr>\n",
       "      <th>0</th>\n",
       "      <td>ES</td>\n",
       "      <td>320010</td>\n",
       "      <td>Sim</td>\n",
       "      <td>AFONSO CLAUDIO</td>\n",
       "      <td>SECRETARIA MUNICIPAL DE SAUDE DE BREJETUBA/ES</td>\n",
       "    </tr>\n",
       "    <tr>\n",
       "      <th>1</th>\n",
       "      <td>ES</td>\n",
       "      <td>320013</td>\n",
       "      <td>Não</td>\n",
       "      <td>ÁGUIA BRANCA</td>\n",
       "      <td>NaN</td>\n",
       "    </tr>\n",
       "    <tr>\n",
       "      <th>2</th>\n",
       "      <td>ES</td>\n",
       "      <td>320016</td>\n",
       "      <td>Não</td>\n",
       "      <td>ÁGUA DOCE DO NORTE</td>\n",
       "      <td>NaN</td>\n",
       "    </tr>\n",
       "    <tr>\n",
       "      <th>3</th>\n",
       "      <td>ES</td>\n",
       "      <td>320020</td>\n",
       "      <td>Não</td>\n",
       "      <td>ALEGRE</td>\n",
       "      <td>NaN</td>\n",
       "    </tr>\n",
       "    <tr>\n",
       "      <th>4</th>\n",
       "      <td>ES</td>\n",
       "      <td>320030</td>\n",
       "      <td>Não</td>\n",
       "      <td>ALFREDO CHAVES</td>\n",
       "      <td>NaN</td>\n",
       "    </tr>\n",
       "  </tbody>\n",
       "</table>\n",
       "</div>"
      ],
      "text/plain": [
       "   UF    IBGE Adesão      NOME_MUNICIPIO  \\\n",
       "0  ES  320010    Sim      AFONSO CLAUDIO   \n",
       "1  ES  320013    Não        ÁGUIA BRANCA   \n",
       "2  ES  320016    Não  ÁGUA DOCE DO NORTE   \n",
       "3  ES  320020    Não              ALEGRE   \n",
       "4  ES  320030    Não      ALFREDO CHAVES   \n",
       "\n",
       "                                        ENTIDADE  \n",
       "0  SECRETARIA MUNICIPAL DE SAUDE DE BREJETUBA/ES  \n",
       "1                                            NaN  \n",
       "2                                            NaN  \n",
       "3                                            NaN  \n",
       "4                                            NaN  "
      ]
     },
     "execution_count": 31,
     "metadata": {},
     "output_type": "execute_result"
    }
   ],
   "source": [
    "#conferindo dados\n",
    "df.head()"
   ]
  },
  {
   "cell_type": "code",
   "execution_count": 32,
   "metadata": {},
   "outputs": [
    {
     "data": {
      "text/plain": [
       "1669"
      ]
     },
     "execution_count": 32,
     "metadata": {},
     "output_type": "execute_result"
    }
   ],
   "source": [
    "#conferindo tamanho do data frame\n",
    "len(df)"
   ]
  },
  {
   "cell_type": "code",
   "execution_count": 33,
   "metadata": {},
   "outputs": [
    {
     "name": "stderr",
     "output_type": "stream",
     "text": [
      "<>:1: SyntaxWarning: invalid escape sequence '\\R'\n",
      "<>:1: SyntaxWarning: invalid escape sequence '\\R'\n",
      "C:\\Users\\nicol\\AppData\\Local\\Temp\\ipykernel_12588\\2809989500.py:1: SyntaxWarning: invalid escape sequence '\\R'\n",
      "  df.to_csv('Municipios csv\\Regiao sudeste filtrado.csv', index=False, sep=';')\n"
     ]
    }
   ],
   "source": [
    "df.to_csv('Municipios csv\\Regiao sudeste filtrado.csv', index=False, sep=';')"
   ]
  }
 ],
 "metadata": {
  "kernelspec": {
   "display_name": "venv",
   "language": "python",
   "name": "python3"
  },
  "language_info": {
   "codemirror_mode": {
    "name": "ipython",
    "version": 3
   },
   "file_extension": ".py",
   "mimetype": "text/x-python",
   "name": "python",
   "nbconvert_exporter": "python",
   "pygments_lexer": "ipython3",
   "version": "3.13.0"
  }
 },
 "nbformat": 4,
 "nbformat_minor": 2
}
