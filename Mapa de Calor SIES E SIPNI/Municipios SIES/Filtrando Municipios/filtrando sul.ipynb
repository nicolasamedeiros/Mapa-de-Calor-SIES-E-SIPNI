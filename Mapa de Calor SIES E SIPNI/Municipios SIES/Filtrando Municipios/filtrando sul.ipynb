{
 "cells": [
  {
   "cell_type": "code",
   "execution_count": 1,
   "metadata": {},
   "outputs": [],
   "source": [
    "import pandas as pd"
   ]
  },
  {
   "cell_type": "code",
   "execution_count": 2,
   "metadata": {},
   "outputs": [
    {
     "name": "stderr",
     "output_type": "stream",
     "text": [
      "<>:2: SyntaxWarning: invalid escape sequence '\\R'\n",
      "<>:2: SyntaxWarning: invalid escape sequence '\\R'\n",
      "C:\\Users\\nicol\\AppData\\Local\\Temp\\ipykernel_4396\\2324751879.py:2: SyntaxWarning: invalid escape sequence '\\R'\n",
      "  df = pd.read_csv('Municipios csv\\Regiao sul.csv', delimiter=';')\n"
     ]
    }
   ],
   "source": [
    "#subindo o arquivo csv\n",
    "df = pd.read_csv('Municipios csv\\Regiao sul.csv', delimiter=';')"
   ]
  },
  {
   "cell_type": "code",
   "execution_count": 3,
   "metadata": {},
   "outputs": [
    {
     "data": {
      "text/html": [
       "<div>\n",
       "<style scoped>\n",
       "    .dataframe tbody tr th:only-of-type {\n",
       "        vertical-align: middle;\n",
       "    }\n",
       "\n",
       "    .dataframe tbody tr th {\n",
       "        vertical-align: top;\n",
       "    }\n",
       "\n",
       "    .dataframe thead th {\n",
       "        text-align: right;\n",
       "    }\n",
       "</style>\n",
       "<table border=\"1\" class=\"dataframe\">\n",
       "  <thead>\n",
       "    <tr style=\"text-align: right;\">\n",
       "      <th></th>\n",
       "      <th>UF</th>\n",
       "      <th>IBGE</th>\n",
       "      <th>NOME_MUNICIPIO</th>\n",
       "      <th>ENTIDADE</th>\n",
       "      <th>Adesão</th>\n",
       "    </tr>\n",
       "  </thead>\n",
       "  <tbody>\n",
       "    <tr>\n",
       "      <th>0</th>\n",
       "      <td>PR</td>\n",
       "      <td>410010</td>\n",
       "      <td>ABATIA</td>\n",
       "      <td>SECRETARIA MUNICIPAL DE SAUDE DE ABATIA/PR</td>\n",
       "      <td>Sim</td>\n",
       "    </tr>\n",
       "    <tr>\n",
       "      <th>1</th>\n",
       "      <td>PR</td>\n",
       "      <td>410010</td>\n",
       "      <td>ABATIÁ</td>\n",
       "      <td>NaN</td>\n",
       "      <td>Não</td>\n",
       "    </tr>\n",
       "    <tr>\n",
       "      <th>2</th>\n",
       "      <td>SC</td>\n",
       "      <td>420005</td>\n",
       "      <td>ABDON BATISTA</td>\n",
       "      <td>SECRETARIA MUNICIPAL DE SAUDE DE ABDON BATISTA/SC</td>\n",
       "      <td>Sim</td>\n",
       "    </tr>\n",
       "    <tr>\n",
       "      <th>3</th>\n",
       "      <td>SC</td>\n",
       "      <td>420005</td>\n",
       "      <td>ABDON BATISTA</td>\n",
       "      <td>NaN</td>\n",
       "      <td>Não</td>\n",
       "    </tr>\n",
       "    <tr>\n",
       "      <th>4</th>\n",
       "      <td>SC</td>\n",
       "      <td>420010</td>\n",
       "      <td>ABELARDO LUZ</td>\n",
       "      <td>SECRETARIA MUNICIPAL DE SAUDE DE ABELARDO LUZ/SC</td>\n",
       "      <td>Sim</td>\n",
       "    </tr>\n",
       "  </tbody>\n",
       "</table>\n",
       "</div>"
      ],
      "text/plain": [
       "   UF    IBGE NOME_MUNICIPIO  \\\n",
       "0  PR  410010         ABATIA   \n",
       "1  PR  410010         ABATIÁ   \n",
       "2  SC  420005  ABDON BATISTA   \n",
       "3  SC  420005  ABDON BATISTA   \n",
       "4  SC  420010   ABELARDO LUZ   \n",
       "\n",
       "                                            ENTIDADE Adesão  \n",
       "0         SECRETARIA MUNICIPAL DE SAUDE DE ABATIA/PR    Sim  \n",
       "1                                                NaN    Não  \n",
       "2  SECRETARIA MUNICIPAL DE SAUDE DE ABDON BATISTA/SC    Sim  \n",
       "3                                                NaN    Não  \n",
       "4   SECRETARIA MUNICIPAL DE SAUDE DE ABELARDO LUZ/SC    Sim  "
      ]
     },
     "execution_count": 3,
     "metadata": {},
     "output_type": "execute_result"
    }
   ],
   "source": [
    "#conferindo dados\n",
    "df.head()"
   ]
  },
  {
   "cell_type": "code",
   "execution_count": 4,
   "metadata": {},
   "outputs": [],
   "source": [
    "#Mudando Sim e Não para 1 e 0\n",
    "df[\"Adesão\"] = df[\"Adesão\"].str.replace('Sim', '1')\n",
    "df[\"Adesão\"] = df[\"Adesão\"].str.replace('Não', '0').astype(int)"
   ]
  },
  {
   "cell_type": "code",
   "execution_count": 5,
   "metadata": {},
   "outputs": [],
   "source": [
    "#Excluindo as colunas entidade e nome municipio\n",
    "df.drop('ENTIDADE', inplace=True, axis=1)\n",
    "df.drop('NOME_MUNICIPIO', inplace=True, axis=1)"
   ]
  },
  {
   "cell_type": "code",
   "execution_count": 6,
   "metadata": {},
   "outputs": [],
   "source": [
    "#Agrupando por uf e ibge e somando\n",
    "df = df.groupby(['UF', 'IBGE']).sum().reset_index()"
   ]
  },
  {
   "cell_type": "code",
   "execution_count": 7,
   "metadata": {},
   "outputs": [
    {
     "data": {
      "text/html": [
       "<div>\n",
       "<style scoped>\n",
       "    .dataframe tbody tr th:only-of-type {\n",
       "        vertical-align: middle;\n",
       "    }\n",
       "\n",
       "    .dataframe tbody tr th {\n",
       "        vertical-align: top;\n",
       "    }\n",
       "\n",
       "    .dataframe thead th {\n",
       "        text-align: right;\n",
       "    }\n",
       "</style>\n",
       "<table border=\"1\" class=\"dataframe\">\n",
       "  <thead>\n",
       "    <tr style=\"text-align: right;\">\n",
       "      <th></th>\n",
       "      <th>UF</th>\n",
       "      <th>IBGE</th>\n",
       "      <th>Adesão</th>\n",
       "    </tr>\n",
       "  </thead>\n",
       "  <tbody>\n",
       "    <tr>\n",
       "      <th>0</th>\n",
       "      <td>PR</td>\n",
       "      <td>410010</td>\n",
       "      <td>1</td>\n",
       "    </tr>\n",
       "    <tr>\n",
       "      <th>1</th>\n",
       "      <td>PR</td>\n",
       "      <td>410020</td>\n",
       "      <td>1</td>\n",
       "    </tr>\n",
       "    <tr>\n",
       "      <th>2</th>\n",
       "      <td>PR</td>\n",
       "      <td>410030</td>\n",
       "      <td>1</td>\n",
       "    </tr>\n",
       "    <tr>\n",
       "      <th>3</th>\n",
       "      <td>PR</td>\n",
       "      <td>410040</td>\n",
       "      <td>0</td>\n",
       "    </tr>\n",
       "    <tr>\n",
       "      <th>4</th>\n",
       "      <td>PR</td>\n",
       "      <td>410045</td>\n",
       "      <td>1</td>\n",
       "    </tr>\n",
       "  </tbody>\n",
       "</table>\n",
       "</div>"
      ],
      "text/plain": [
       "   UF    IBGE  Adesão\n",
       "0  PR  410010       1\n",
       "1  PR  410020       1\n",
       "2  PR  410030       1\n",
       "3  PR  410040       0\n",
       "4  PR  410045       1"
      ]
     },
     "execution_count": 7,
     "metadata": {},
     "output_type": "execute_result"
    }
   ],
   "source": [
    "#conferindo dados\n",
    "df.head()"
   ]
  },
  {
   "cell_type": "code",
   "execution_count": 8,
   "metadata": {},
   "outputs": [
    {
     "data": {
      "text/html": [
       "<div>\n",
       "<style scoped>\n",
       "    .dataframe tbody tr th:only-of-type {\n",
       "        vertical-align: middle;\n",
       "    }\n",
       "\n",
       "    .dataframe tbody tr th {\n",
       "        vertical-align: top;\n",
       "    }\n",
       "\n",
       "    .dataframe thead th {\n",
       "        text-align: right;\n",
       "    }\n",
       "</style>\n",
       "<table border=\"1\" class=\"dataframe\">\n",
       "  <thead>\n",
       "    <tr style=\"text-align: right;\">\n",
       "      <th></th>\n",
       "      <th>UF</th>\n",
       "      <th>IBGE</th>\n",
       "      <th>Adesão</th>\n",
       "    </tr>\n",
       "  </thead>\n",
       "  <tbody>\n",
       "    <tr>\n",
       "      <th>3</th>\n",
       "      <td>PR</td>\n",
       "      <td>410040</td>\n",
       "      <td>0</td>\n",
       "    </tr>\n",
       "  </tbody>\n",
       "</table>\n",
       "</div>"
      ],
      "text/plain": [
       "   UF    IBGE  Adesão\n",
       "3  PR  410040       0"
      ]
     },
     "execution_count": 8,
     "metadata": {},
     "output_type": "execute_result"
    }
   ],
   "source": [
    "#Filtrando valor 410040\n",
    "df[df['IBGE'] == 410040]"
   ]
  },
  {
   "cell_type": "code",
   "execution_count": 9,
   "metadata": {},
   "outputs": [
    {
     "data": {
      "text/plain": [
       "1192"
      ]
     },
     "execution_count": 9,
     "metadata": {},
     "output_type": "execute_result"
    }
   ],
   "source": [
    "#verificando tamanho do dataframe\n",
    "len(df)"
   ]
  },
  {
   "cell_type": "code",
   "execution_count": 10,
   "metadata": {},
   "outputs": [],
   "source": [
    "#Mudando coluna adesão para string\n",
    "df[\"Adesão\"] = df[\"Adesão\"].astype(str)"
   ]
  },
  {
   "cell_type": "code",
   "execution_count": 11,
   "metadata": {},
   "outputs": [],
   "source": [
    "#Mudando 1 e 0 para Sim e Não\n",
    "df[\"Adesão\"] = df[\"Adesão\"].str.replace('1', 'Sim')\n",
    "df[\"Adesão\"] = df[\"Adesão\"].str.replace('0', 'Não')"
   ]
  },
  {
   "cell_type": "markdown",
   "metadata": {},
   "source": [
    "## Segundo dataframe pra trazer a coluna municipio"
   ]
  },
  {
   "cell_type": "code",
   "execution_count": 12,
   "metadata": {},
   "outputs": [
    {
     "name": "stderr",
     "output_type": "stream",
     "text": [
      "<>:2: SyntaxWarning: invalid escape sequence '\\R'\n",
      "<>:2: SyntaxWarning: invalid escape sequence '\\R'\n",
      "C:\\Users\\nicol\\AppData\\Local\\Temp\\ipykernel_4396\\1835177537.py:2: SyntaxWarning: invalid escape sequence '\\R'\n",
      "  df1 = pd.read_csv('Municipios csv\\Regiao sul.csv', delimiter=';')\n"
     ]
    }
   ],
   "source": [
    "#subindo o arquivo csv\n",
    "df1 = pd.read_csv('Municipios csv\\Regiao sul.csv', delimiter=';')"
   ]
  },
  {
   "cell_type": "code",
   "execution_count": 13,
   "metadata": {},
   "outputs": [],
   "source": [
    "#excluindo as colunas uf, adesão e entidade\n",
    "df1.drop('UF', inplace=True, axis=1)\n",
    "df1.drop('Adesão', inplace=True, axis=1)\n",
    "df1.drop('ENTIDADE', inplace=True, axis=1)"
   ]
  },
  {
   "cell_type": "code",
   "execution_count": 14,
   "metadata": {},
   "outputs": [],
   "source": [
    "#excluindo duplicadas de ibge\n",
    "df1.drop_duplicates('IBGE', inplace=True)"
   ]
  },
  {
   "cell_type": "code",
   "execution_count": 15,
   "metadata": {},
   "outputs": [
    {
     "data": {
      "text/html": [
       "<div>\n",
       "<style scoped>\n",
       "    .dataframe tbody tr th:only-of-type {\n",
       "        vertical-align: middle;\n",
       "    }\n",
       "\n",
       "    .dataframe tbody tr th {\n",
       "        vertical-align: top;\n",
       "    }\n",
       "\n",
       "    .dataframe thead th {\n",
       "        text-align: right;\n",
       "    }\n",
       "</style>\n",
       "<table border=\"1\" class=\"dataframe\">\n",
       "  <thead>\n",
       "    <tr style=\"text-align: right;\">\n",
       "      <th></th>\n",
       "      <th>IBGE</th>\n",
       "      <th>NOME_MUNICIPIO</th>\n",
       "    </tr>\n",
       "  </thead>\n",
       "  <tbody>\n",
       "    <tr>\n",
       "      <th>0</th>\n",
       "      <td>410010</td>\n",
       "      <td>ABATIA</td>\n",
       "    </tr>\n",
       "    <tr>\n",
       "      <th>2</th>\n",
       "      <td>420005</td>\n",
       "      <td>ABDON BATISTA</td>\n",
       "    </tr>\n",
       "    <tr>\n",
       "      <th>4</th>\n",
       "      <td>420010</td>\n",
       "      <td>ABELARDO LUZ</td>\n",
       "    </tr>\n",
       "    <tr>\n",
       "      <th>6</th>\n",
       "      <td>430003</td>\n",
       "      <td>ACEGUA</td>\n",
       "    </tr>\n",
       "    <tr>\n",
       "      <th>8</th>\n",
       "      <td>410020</td>\n",
       "      <td>ADRIANOPOLIS</td>\n",
       "    </tr>\n",
       "  </tbody>\n",
       "</table>\n",
       "</div>"
      ],
      "text/plain": [
       "     IBGE NOME_MUNICIPIO\n",
       "0  410010         ABATIA\n",
       "2  420005  ABDON BATISTA\n",
       "4  420010   ABELARDO LUZ\n",
       "6  430003         ACEGUA\n",
       "8  410020   ADRIANOPOLIS"
      ]
     },
     "execution_count": 15,
     "metadata": {},
     "output_type": "execute_result"
    }
   ],
   "source": [
    "#conferindo dados\n",
    "df1.head()"
   ]
  },
  {
   "cell_type": "code",
   "execution_count": 16,
   "metadata": {},
   "outputs": [],
   "source": [
    "#unindo o primeiro com o segundo dataframe\n",
    "df = pd.merge(df, df1, on='IBGE')"
   ]
  },
  {
   "cell_type": "code",
   "execution_count": 17,
   "metadata": {},
   "outputs": [
    {
     "data": {
      "text/html": [
       "<div>\n",
       "<style scoped>\n",
       "    .dataframe tbody tr th:only-of-type {\n",
       "        vertical-align: middle;\n",
       "    }\n",
       "\n",
       "    .dataframe tbody tr th {\n",
       "        vertical-align: top;\n",
       "    }\n",
       "\n",
       "    .dataframe thead th {\n",
       "        text-align: right;\n",
       "    }\n",
       "</style>\n",
       "<table border=\"1\" class=\"dataframe\">\n",
       "  <thead>\n",
       "    <tr style=\"text-align: right;\">\n",
       "      <th></th>\n",
       "      <th>UF</th>\n",
       "      <th>IBGE</th>\n",
       "      <th>Adesão</th>\n",
       "      <th>NOME_MUNICIPIO</th>\n",
       "    </tr>\n",
       "  </thead>\n",
       "  <tbody>\n",
       "    <tr>\n",
       "      <th>3</th>\n",
       "      <td>PR</td>\n",
       "      <td>410040</td>\n",
       "      <td>Não</td>\n",
       "      <td>ALMIRANTE TAMANDARÉ</td>\n",
       "    </tr>\n",
       "  </tbody>\n",
       "</table>\n",
       "</div>"
      ],
      "text/plain": [
       "   UF    IBGE Adesão       NOME_MUNICIPIO\n",
       "3  PR  410040    Não  ALMIRANTE TAMANDARÉ"
      ]
     },
     "execution_count": 17,
     "metadata": {},
     "output_type": "execute_result"
    }
   ],
   "source": [
    "#filtrando o valor 410040\n",
    "df[df['IBGE'] == 410040]"
   ]
  },
  {
   "cell_type": "code",
   "execution_count": 18,
   "metadata": {},
   "outputs": [
    {
     "data": {
      "text/html": [
       "<div>\n",
       "<style scoped>\n",
       "    .dataframe tbody tr th:only-of-type {\n",
       "        vertical-align: middle;\n",
       "    }\n",
       "\n",
       "    .dataframe tbody tr th {\n",
       "        vertical-align: top;\n",
       "    }\n",
       "\n",
       "    .dataframe thead th {\n",
       "        text-align: right;\n",
       "    }\n",
       "</style>\n",
       "<table border=\"1\" class=\"dataframe\">\n",
       "  <thead>\n",
       "    <tr style=\"text-align: right;\">\n",
       "      <th></th>\n",
       "      <th>UF</th>\n",
       "      <th>IBGE</th>\n",
       "      <th>Adesão</th>\n",
       "      <th>NOME_MUNICIPIO</th>\n",
       "    </tr>\n",
       "  </thead>\n",
       "  <tbody>\n",
       "    <tr>\n",
       "      <th>0</th>\n",
       "      <td>PR</td>\n",
       "      <td>410010</td>\n",
       "      <td>Sim</td>\n",
       "      <td>ABATIA</td>\n",
       "    </tr>\n",
       "    <tr>\n",
       "      <th>1</th>\n",
       "      <td>PR</td>\n",
       "      <td>410020</td>\n",
       "      <td>Sim</td>\n",
       "      <td>ADRIANOPOLIS</td>\n",
       "    </tr>\n",
       "    <tr>\n",
       "      <th>2</th>\n",
       "      <td>PR</td>\n",
       "      <td>410030</td>\n",
       "      <td>Sim</td>\n",
       "      <td>AGUDOS DO SUL</td>\n",
       "    </tr>\n",
       "    <tr>\n",
       "      <th>3</th>\n",
       "      <td>PR</td>\n",
       "      <td>410040</td>\n",
       "      <td>Não</td>\n",
       "      <td>ALMIRANTE TAMANDARÉ</td>\n",
       "    </tr>\n",
       "    <tr>\n",
       "      <th>4</th>\n",
       "      <td>PR</td>\n",
       "      <td>410045</td>\n",
       "      <td>Sim</td>\n",
       "      <td>ALTAMIRA DO PARANA</td>\n",
       "    </tr>\n",
       "  </tbody>\n",
       "</table>\n",
       "</div>"
      ],
      "text/plain": [
       "   UF    IBGE Adesão       NOME_MUNICIPIO\n",
       "0  PR  410010    Sim               ABATIA\n",
       "1  PR  410020    Sim         ADRIANOPOLIS\n",
       "2  PR  410030    Sim        AGUDOS DO SUL\n",
       "3  PR  410040    Não  ALMIRANTE TAMANDARÉ\n",
       "4  PR  410045    Sim   ALTAMIRA DO PARANA"
      ]
     },
     "execution_count": 18,
     "metadata": {},
     "output_type": "execute_result"
    }
   ],
   "source": [
    "#conferindo dados\n",
    "df.head()"
   ]
  },
  {
   "cell_type": "markdown",
   "metadata": {},
   "source": [
    "## Terceiro dataframe pra trazer a coluna ENTIDADE"
   ]
  },
  {
   "cell_type": "code",
   "execution_count": 19,
   "metadata": {},
   "outputs": [
    {
     "name": "stderr",
     "output_type": "stream",
     "text": [
      "<>:2: SyntaxWarning: invalid escape sequence '\\R'\n",
      "<>:2: SyntaxWarning: invalid escape sequence '\\R'\n",
      "C:\\Users\\nicol\\AppData\\Local\\Temp\\ipykernel_4396\\1490392496.py:2: SyntaxWarning: invalid escape sequence '\\R'\n",
      "  df2 = pd.read_csv('Municipios csv\\Regiao sul.csv', delimiter=';')\n"
     ]
    }
   ],
   "source": [
    "#subindo o arquivo csv\n",
    "df2 = pd.read_csv('Municipios csv\\Regiao sul.csv', delimiter=';') "
   ]
  },
  {
   "cell_type": "code",
   "execution_count": 20,
   "metadata": {},
   "outputs": [],
   "source": [
    "#excluindo as colunas uf, adesão e nome municipio\n",
    "df2.drop('UF', inplace=True, axis=1)\n",
    "df2.drop('Adesão', inplace=True, axis=1)\n",
    "df2.drop('NOME_MUNICIPIO', inplace=True, axis=1)"
   ]
  },
  {
   "cell_type": "code",
   "execution_count": 21,
   "metadata": {},
   "outputs": [],
   "source": [
    "#excluindo duplicadas de ibge e excluindo valores nulos\n",
    "df2.drop_duplicates('IBGE', inplace=True)\n",
    "df2.dropna(inplace=True)"
   ]
  },
  {
   "cell_type": "code",
   "execution_count": 22,
   "metadata": {},
   "outputs": [],
   "source": [
    "#unindo com a primeira tabela\n",
    "df = pd.merge(df, df2, on='IBGE', how='left')"
   ]
  },
  {
   "cell_type": "code",
   "execution_count": 23,
   "metadata": {},
   "outputs": [
    {
     "data": {
      "text/plain": [
       "1192"
      ]
     },
     "execution_count": 23,
     "metadata": {},
     "output_type": "execute_result"
    }
   ],
   "source": [
    "len(df)"
   ]
  },
  {
   "cell_type": "code",
   "execution_count": 24,
   "metadata": {},
   "outputs": [
    {
     "name": "stderr",
     "output_type": "stream",
     "text": [
      "<>:1: SyntaxWarning: invalid escape sequence '\\R'\n",
      "<>:1: SyntaxWarning: invalid escape sequence '\\R'\n",
      "C:\\Users\\nicol\\AppData\\Local\\Temp\\ipykernel_4396\\583545780.py:1: SyntaxWarning: invalid escape sequence '\\R'\n",
      "  df.to_csv('Municipios csv\\Regiao sul tratado.csv', index=False)\n"
     ]
    }
   ],
   "source": [
    "df.to_csv('Municipios csv\\Regiao sul tratado.csv', index=False)"
   ]
  }
 ],
 "metadata": {
  "kernelspec": {
   "display_name": "venv",
   "language": "python",
   "name": "python3"
  },
  "language_info": {
   "codemirror_mode": {
    "name": "ipython",
    "version": 3
   },
   "file_extension": ".py",
   "mimetype": "text/x-python",
   "name": "python",
   "nbconvert_exporter": "python",
   "pygments_lexer": "ipython3",
   "version": "3.13.0"
  }
 },
 "nbformat": 4,
 "nbformat_minor": 2
}
