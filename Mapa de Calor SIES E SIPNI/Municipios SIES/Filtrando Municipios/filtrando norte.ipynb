{
 "cells": [
  {
   "cell_type": "code",
   "execution_count": 193,
   "metadata": {},
   "outputs": [],
   "source": [
    "import pandas as pd"
   ]
  },
  {
   "cell_type": "code",
   "execution_count": null,
   "metadata": {},
   "outputs": [
    {
     "name": "stderr",
     "output_type": "stream",
     "text": [
      "<>:1: SyntaxWarning: invalid escape sequence '\\R'\n",
      "<>:1: SyntaxWarning: invalid escape sequence '\\R'\n",
      "C:\\Users\\nicol\\AppData\\Local\\Temp\\ipykernel_4308\\3566778562.py:1: SyntaxWarning: invalid escape sequence '\\R'\n",
      "  df = pd.read_csv('Municipios csv\\Regiao norte.csv', delimiter=';')\n"
     ]
    }
   ],
   "source": [
    "#subindo o arquivo csv\n",
    "df = pd.read_csv('Municipios csv\\Regiao norte.csv', delimiter=';')"
   ]
  },
  {
   "cell_type": "code",
   "execution_count": null,
   "metadata": {},
   "outputs": [
    {
     "data": {
      "text/html": [
       "<div>\n",
       "<style scoped>\n",
       "    .dataframe tbody tr th:only-of-type {\n",
       "        vertical-align: middle;\n",
       "    }\n",
       "\n",
       "    .dataframe tbody tr th {\n",
       "        vertical-align: top;\n",
       "    }\n",
       "\n",
       "    .dataframe thead th {\n",
       "        text-align: right;\n",
       "    }\n",
       "</style>\n",
       "<table border=\"1\" class=\"dataframe\">\n",
       "  <thead>\n",
       "    <tr style=\"text-align: right;\">\n",
       "      <th></th>\n",
       "      <th>UF</th>\n",
       "      <th>IBGE</th>\n",
       "      <th>NOME_MUNICIPIO</th>\n",
       "      <th>ENTIDADE</th>\n",
       "      <th>Adesão</th>\n",
       "    </tr>\n",
       "  </thead>\n",
       "  <tbody>\n",
       "    <tr>\n",
       "      <th>0</th>\n",
       "      <td>PA</td>\n",
       "      <td>150010</td>\n",
       "      <td>ABAETETUBA</td>\n",
       "      <td>SECRETARIA MUNICIPAL DE SAUDE DE ABAETETUBA</td>\n",
       "      <td>Sim</td>\n",
       "    </tr>\n",
       "    <tr>\n",
       "      <th>1</th>\n",
       "      <td>PA</td>\n",
       "      <td>150010</td>\n",
       "      <td>ABAETETUBA</td>\n",
       "      <td>NaN</td>\n",
       "      <td>Não</td>\n",
       "    </tr>\n",
       "    <tr>\n",
       "      <th>2</th>\n",
       "      <td>PA</td>\n",
       "      <td>150013</td>\n",
       "      <td>ABEL FIGUEIREDO</td>\n",
       "      <td>NaN</td>\n",
       "      <td>Não</td>\n",
       "    </tr>\n",
       "    <tr>\n",
       "      <th>3</th>\n",
       "      <td>TO</td>\n",
       "      <td>170025</td>\n",
       "      <td>ABREULANDIA</td>\n",
       "      <td>SECRETARIA MUNICIPAL DE SAUDE DE ABREULANDIA/TO</td>\n",
       "      <td>Sim</td>\n",
       "    </tr>\n",
       "    <tr>\n",
       "      <th>4</th>\n",
       "      <td>TO</td>\n",
       "      <td>170025</td>\n",
       "      <td>ABREULÂNDIA</td>\n",
       "      <td>NaN</td>\n",
       "      <td>Não</td>\n",
       "    </tr>\n",
       "  </tbody>\n",
       "</table>\n",
       "</div>"
      ],
      "text/plain": [
       "   UF    IBGE   NOME_MUNICIPIO  \\\n",
       "0  PA  150010       ABAETETUBA   \n",
       "1  PA  150010       ABAETETUBA   \n",
       "2  PA  150013  ABEL FIGUEIREDO   \n",
       "3  TO  170025      ABREULANDIA   \n",
       "4  TO  170025      ABREULÂNDIA   \n",
       "\n",
       "                                          ENTIDADE Adesão   \n",
       "0      SECRETARIA MUNICIPAL DE SAUDE DE ABAETETUBA     Sim  \n",
       "1                                              NaN     Não  \n",
       "2                                              NaN     Não  \n",
       "3  SECRETARIA MUNICIPAL DE SAUDE DE ABREULANDIA/TO     Sim  \n",
       "4                                              NaN     Não  "
      ]
     },
     "execution_count": 195,
     "metadata": {},
     "output_type": "execute_result"
    }
   ],
   "source": [
    "#conferindo dados\n",
    "df.head()"
   ]
  },
  {
   "cell_type": "code",
   "execution_count": null,
   "metadata": {},
   "outputs": [],
   "source": [
    "#Mudando Sim e Não para 1 e 0\n",
    "df[\"Adesão \"] = df[\"Adesão \"].str.replace('Sim', '1')\n",
    "df[\"Adesão \"] = df[\"Adesão \"].str.replace('Não', '0').astype(int)"
   ]
  },
  {
   "cell_type": "code",
   "execution_count": null,
   "metadata": {},
   "outputs": [],
   "source": [
    "#Excluindo as colunas entidade e nome municipio\n",
    "df.drop('ENTIDADE', inplace=True, axis=1)\n",
    "df.drop('NOME_MUNICIPIO', inplace=True, axis=1)"
   ]
  },
  {
   "cell_type": "code",
   "execution_count": null,
   "metadata": {},
   "outputs": [],
   "source": [
    "#Agrupando por uf e ibge e somando\n",
    "df = df.groupby(['UF', 'IBGE']).sum().reset_index()"
   ]
  },
  {
   "cell_type": "code",
   "execution_count": null,
   "metadata": {},
   "outputs": [
    {
     "data": {
      "text/html": [
       "<div>\n",
       "<style scoped>\n",
       "    .dataframe tbody tr th:only-of-type {\n",
       "        vertical-align: middle;\n",
       "    }\n",
       "\n",
       "    .dataframe tbody tr th {\n",
       "        vertical-align: top;\n",
       "    }\n",
       "\n",
       "    .dataframe thead th {\n",
       "        text-align: right;\n",
       "    }\n",
       "</style>\n",
       "<table border=\"1\" class=\"dataframe\">\n",
       "  <thead>\n",
       "    <tr style=\"text-align: right;\">\n",
       "      <th></th>\n",
       "      <th>UF</th>\n",
       "      <th>IBGE</th>\n",
       "      <th>Adesão</th>\n",
       "    </tr>\n",
       "  </thead>\n",
       "  <tbody>\n",
       "    <tr>\n",
       "      <th>0</th>\n",
       "      <td>AC</td>\n",
       "      <td>120001</td>\n",
       "      <td>1</td>\n",
       "    </tr>\n",
       "    <tr>\n",
       "      <th>1</th>\n",
       "      <td>AC</td>\n",
       "      <td>120005</td>\n",
       "      <td>1</td>\n",
       "    </tr>\n",
       "    <tr>\n",
       "      <th>2</th>\n",
       "      <td>AC</td>\n",
       "      <td>120010</td>\n",
       "      <td>1</td>\n",
       "    </tr>\n",
       "    <tr>\n",
       "      <th>3</th>\n",
       "      <td>AC</td>\n",
       "      <td>120013</td>\n",
       "      <td>1</td>\n",
       "    </tr>\n",
       "    <tr>\n",
       "      <th>4</th>\n",
       "      <td>AC</td>\n",
       "      <td>120017</td>\n",
       "      <td>1</td>\n",
       "    </tr>\n",
       "  </tbody>\n",
       "</table>\n",
       "</div>"
      ],
      "text/plain": [
       "   UF    IBGE  Adesão \n",
       "0  AC  120001        1\n",
       "1  AC  120005        1\n",
       "2  AC  120010        1\n",
       "3  AC  120013        1\n",
       "4  AC  120017        1"
      ]
     },
     "execution_count": 199,
     "metadata": {},
     "output_type": "execute_result"
    }
   ],
   "source": [
    "#conferindo dados\n",
    "df.head()"
   ]
  },
  {
   "cell_type": "code",
   "execution_count": null,
   "metadata": {},
   "outputs": [
    {
     "data": {
      "text/html": [
       "<div>\n",
       "<style scoped>\n",
       "    .dataframe tbody tr th:only-of-type {\n",
       "        vertical-align: middle;\n",
       "    }\n",
       "\n",
       "    .dataframe tbody tr th {\n",
       "        vertical-align: top;\n",
       "    }\n",
       "\n",
       "    .dataframe thead th {\n",
       "        text-align: right;\n",
       "    }\n",
       "</style>\n",
       "<table border=\"1\" class=\"dataframe\">\n",
       "  <thead>\n",
       "    <tr style=\"text-align: right;\">\n",
       "      <th></th>\n",
       "      <th>UF</th>\n",
       "      <th>IBGE</th>\n",
       "      <th>Adesão</th>\n",
       "    </tr>\n",
       "  </thead>\n",
       "  <tbody>\n",
       "    <tr>\n",
       "      <th>101</th>\n",
       "      <td>PA</td>\n",
       "      <td>150013</td>\n",
       "      <td>0</td>\n",
       "    </tr>\n",
       "  </tbody>\n",
       "</table>\n",
       "</div>"
      ],
      "text/plain": [
       "     UF    IBGE  Adesão \n",
       "101  PA  150013        0"
      ]
     },
     "execution_count": 200,
     "metadata": {},
     "output_type": "execute_result"
    }
   ],
   "source": [
    "#Filtrando valor 1500133\n",
    "df[df['IBGE'] == 150013]"
   ]
  },
  {
   "cell_type": "code",
   "execution_count": null,
   "metadata": {},
   "outputs": [
    {
     "data": {
      "text/plain": [
       "450"
      ]
     },
     "execution_count": 201,
     "metadata": {},
     "output_type": "execute_result"
    }
   ],
   "source": [
    "#verificando tamanho do dataframe\n",
    "len(df)"
   ]
  },
  {
   "cell_type": "code",
   "execution_count": null,
   "metadata": {},
   "outputs": [],
   "source": [
    "#Mudando coluna adesão para string\n",
    "df[\"Adesão \"] = df[\"Adesão \"].astype(str)"
   ]
  },
  {
   "cell_type": "code",
   "execution_count": null,
   "metadata": {},
   "outputs": [],
   "source": [
    "#Mudando 1 e 0 para Sim e Não\n",
    "df[\"Adesão \"] = df[\"Adesão \"].str.replace('1', 'Sim')\n",
    "df[\"Adesão \"] = df[\"Adesão \"].str.replace('0', 'Não')"
   ]
  },
  {
   "cell_type": "markdown",
   "metadata": {},
   "source": [
    "## Segundo dataframe pra trazer a coluna municipio"
   ]
  },
  {
   "cell_type": "code",
   "execution_count": null,
   "metadata": {},
   "outputs": [
    {
     "name": "stderr",
     "output_type": "stream",
     "text": [
      "<>:1: SyntaxWarning: invalid escape sequence '\\R'\n",
      "<>:1: SyntaxWarning: invalid escape sequence '\\R'\n",
      "C:\\Users\\nicol\\AppData\\Local\\Temp\\ipykernel_4308\\3031125442.py:1: SyntaxWarning: invalid escape sequence '\\R'\n",
      "  df1 = pd.read_csv('Municipios csv\\Regiao norte.csv', delimiter=';')\n"
     ]
    }
   ],
   "source": [
    "#subindo o arquivo csv\n",
    "df1 = pd.read_csv('Municipios csv\\Regiao norte.csv', delimiter=';')"
   ]
  },
  {
   "cell_type": "code",
   "execution_count": null,
   "metadata": {},
   "outputs": [
    {
     "data": {
      "text/html": [
       "<div>\n",
       "<style scoped>\n",
       "    .dataframe tbody tr th:only-of-type {\n",
       "        vertical-align: middle;\n",
       "    }\n",
       "\n",
       "    .dataframe tbody tr th {\n",
       "        vertical-align: top;\n",
       "    }\n",
       "\n",
       "    .dataframe thead th {\n",
       "        text-align: right;\n",
       "    }\n",
       "</style>\n",
       "<table border=\"1\" class=\"dataframe\">\n",
       "  <thead>\n",
       "    <tr style=\"text-align: right;\">\n",
       "      <th></th>\n",
       "      <th>UF</th>\n",
       "      <th>IBGE</th>\n",
       "      <th>NOME_MUNICIPIO</th>\n",
       "      <th>ENTIDADE</th>\n",
       "      <th>Adesão</th>\n",
       "    </tr>\n",
       "  </thead>\n",
       "  <tbody>\n",
       "    <tr>\n",
       "      <th>0</th>\n",
       "      <td>PA</td>\n",
       "      <td>150010</td>\n",
       "      <td>ABAETETUBA</td>\n",
       "      <td>SECRETARIA MUNICIPAL DE SAUDE DE ABAETETUBA</td>\n",
       "      <td>Sim</td>\n",
       "    </tr>\n",
       "    <tr>\n",
       "      <th>1</th>\n",
       "      <td>PA</td>\n",
       "      <td>150010</td>\n",
       "      <td>ABAETETUBA</td>\n",
       "      <td>NaN</td>\n",
       "      <td>Não</td>\n",
       "    </tr>\n",
       "    <tr>\n",
       "      <th>2</th>\n",
       "      <td>PA</td>\n",
       "      <td>150013</td>\n",
       "      <td>ABEL FIGUEIREDO</td>\n",
       "      <td>NaN</td>\n",
       "      <td>Não</td>\n",
       "    </tr>\n",
       "    <tr>\n",
       "      <th>3</th>\n",
       "      <td>TO</td>\n",
       "      <td>170025</td>\n",
       "      <td>ABREULANDIA</td>\n",
       "      <td>SECRETARIA MUNICIPAL DE SAUDE DE ABREULANDIA/TO</td>\n",
       "      <td>Sim</td>\n",
       "    </tr>\n",
       "    <tr>\n",
       "      <th>4</th>\n",
       "      <td>TO</td>\n",
       "      <td>170025</td>\n",
       "      <td>ABREULÂNDIA</td>\n",
       "      <td>NaN</td>\n",
       "      <td>Não</td>\n",
       "    </tr>\n",
       "  </tbody>\n",
       "</table>\n",
       "</div>"
      ],
      "text/plain": [
       "   UF    IBGE   NOME_MUNICIPIO  \\\n",
       "0  PA  150010       ABAETETUBA   \n",
       "1  PA  150010       ABAETETUBA   \n",
       "2  PA  150013  ABEL FIGUEIREDO   \n",
       "3  TO  170025      ABREULANDIA   \n",
       "4  TO  170025      ABREULÂNDIA   \n",
       "\n",
       "                                          ENTIDADE Adesão   \n",
       "0      SECRETARIA MUNICIPAL DE SAUDE DE ABAETETUBA     Sim  \n",
       "1                                              NaN     Não  \n",
       "2                                              NaN     Não  \n",
       "3  SECRETARIA MUNICIPAL DE SAUDE DE ABREULANDIA/TO     Sim  \n",
       "4                                              NaN     Não  "
      ]
     },
     "execution_count": 205,
     "metadata": {},
     "output_type": "execute_result"
    }
   ],
   "source": [
    "#conferindo dados\n",
    "df1.head()"
   ]
  },
  {
   "cell_type": "code",
   "execution_count": null,
   "metadata": {},
   "outputs": [],
   "source": [
    "#excluindo as colunas uf, adesão e entidade\n",
    "df1.drop('UF', inplace=True, axis=1)\n",
    "df1.drop('Adesão ', inplace=True, axis=1)\n",
    "df1.drop('ENTIDADE', inplace=True, axis=1)"
   ]
  },
  {
   "cell_type": "code",
   "execution_count": null,
   "metadata": {},
   "outputs": [],
   "source": [
    "#excluindo duplicadas de ibge\n",
    "df1.drop_duplicates('IBGE', inplace=True)"
   ]
  },
  {
   "cell_type": "code",
   "execution_count": null,
   "metadata": {},
   "outputs": [
    {
     "data": {
      "text/html": [
       "<div>\n",
       "<style scoped>\n",
       "    .dataframe tbody tr th:only-of-type {\n",
       "        vertical-align: middle;\n",
       "    }\n",
       "\n",
       "    .dataframe tbody tr th {\n",
       "        vertical-align: top;\n",
       "    }\n",
       "\n",
       "    .dataframe thead th {\n",
       "        text-align: right;\n",
       "    }\n",
       "</style>\n",
       "<table border=\"1\" class=\"dataframe\">\n",
       "  <thead>\n",
       "    <tr style=\"text-align: right;\">\n",
       "      <th></th>\n",
       "      <th>IBGE</th>\n",
       "      <th>NOME_MUNICIPIO</th>\n",
       "    </tr>\n",
       "  </thead>\n",
       "  <tbody>\n",
       "    <tr>\n",
       "      <th>0</th>\n",
       "      <td>150010</td>\n",
       "      <td>ABAETETUBA</td>\n",
       "    </tr>\n",
       "    <tr>\n",
       "      <th>2</th>\n",
       "      <td>150013</td>\n",
       "      <td>ABEL FIGUEIREDO</td>\n",
       "    </tr>\n",
       "    <tr>\n",
       "      <th>3</th>\n",
       "      <td>170025</td>\n",
       "      <td>ABREULANDIA</td>\n",
       "    </tr>\n",
       "    <tr>\n",
       "      <th>5</th>\n",
       "      <td>150020</td>\n",
       "      <td>ACARA</td>\n",
       "    </tr>\n",
       "    <tr>\n",
       "      <th>7</th>\n",
       "      <td>120001</td>\n",
       "      <td>ACRELANDIA</td>\n",
       "    </tr>\n",
       "  </tbody>\n",
       "</table>\n",
       "</div>"
      ],
      "text/plain": [
       "     IBGE   NOME_MUNICIPIO\n",
       "0  150010       ABAETETUBA\n",
       "2  150013  ABEL FIGUEIREDO\n",
       "3  170025      ABREULANDIA\n",
       "5  150020            ACARA\n",
       "7  120001       ACRELANDIA"
      ]
     },
     "execution_count": 208,
     "metadata": {},
     "output_type": "execute_result"
    }
   ],
   "source": [
    "#conferindo dados\n",
    "df1.head()"
   ]
  },
  {
   "cell_type": "code",
   "execution_count": null,
   "metadata": {},
   "outputs": [],
   "source": [
    "#unindo o primeiro com o segundo dataframe\n",
    "df = pd.merge(df, df1, on='IBGE')"
   ]
  },
  {
   "cell_type": "code",
   "execution_count": null,
   "metadata": {},
   "outputs": [
    {
     "data": {
      "text/html": [
       "<div>\n",
       "<style scoped>\n",
       "    .dataframe tbody tr th:only-of-type {\n",
       "        vertical-align: middle;\n",
       "    }\n",
       "\n",
       "    .dataframe tbody tr th {\n",
       "        vertical-align: top;\n",
       "    }\n",
       "\n",
       "    .dataframe thead th {\n",
       "        text-align: right;\n",
       "    }\n",
       "</style>\n",
       "<table border=\"1\" class=\"dataframe\">\n",
       "  <thead>\n",
       "    <tr style=\"text-align: right;\">\n",
       "      <th></th>\n",
       "      <th>UF</th>\n",
       "      <th>IBGE</th>\n",
       "      <th>Adesão</th>\n",
       "      <th>NOME_MUNICIPIO</th>\n",
       "    </tr>\n",
       "  </thead>\n",
       "  <tbody>\n",
       "    <tr>\n",
       "      <th>101</th>\n",
       "      <td>PA</td>\n",
       "      <td>150013</td>\n",
       "      <td>Não</td>\n",
       "      <td>ABEL FIGUEIREDO</td>\n",
       "    </tr>\n",
       "  </tbody>\n",
       "</table>\n",
       "</div>"
      ],
      "text/plain": [
       "     UF    IBGE Adesão    NOME_MUNICIPIO\n",
       "101  PA  150013     Não  ABEL FIGUEIREDO"
      ]
     },
     "execution_count": 210,
     "metadata": {},
     "output_type": "execute_result"
    }
   ],
   "source": [
    "#filtrando o valor 150013\n",
    "df[df['IBGE'] == 150013]"
   ]
  },
  {
   "cell_type": "code",
   "execution_count": null,
   "metadata": {},
   "outputs": [
    {
     "data": {
      "text/html": [
       "<div>\n",
       "<style scoped>\n",
       "    .dataframe tbody tr th:only-of-type {\n",
       "        vertical-align: middle;\n",
       "    }\n",
       "\n",
       "    .dataframe tbody tr th {\n",
       "        vertical-align: top;\n",
       "    }\n",
       "\n",
       "    .dataframe thead th {\n",
       "        text-align: right;\n",
       "    }\n",
       "</style>\n",
       "<table border=\"1\" class=\"dataframe\">\n",
       "  <thead>\n",
       "    <tr style=\"text-align: right;\">\n",
       "      <th></th>\n",
       "      <th>UF</th>\n",
       "      <th>IBGE</th>\n",
       "      <th>Adesão</th>\n",
       "      <th>NOME_MUNICIPIO</th>\n",
       "    </tr>\n",
       "  </thead>\n",
       "  <tbody>\n",
       "    <tr>\n",
       "      <th>0</th>\n",
       "      <td>AC</td>\n",
       "      <td>120001</td>\n",
       "      <td>Sim</td>\n",
       "      <td>ACRELANDIA</td>\n",
       "    </tr>\n",
       "    <tr>\n",
       "      <th>1</th>\n",
       "      <td>AC</td>\n",
       "      <td>120005</td>\n",
       "      <td>Sim</td>\n",
       "      <td>ASSIS BRASIL</td>\n",
       "    </tr>\n",
       "    <tr>\n",
       "      <th>2</th>\n",
       "      <td>AC</td>\n",
       "      <td>120010</td>\n",
       "      <td>Sim</td>\n",
       "      <td>BRASILEIA</td>\n",
       "    </tr>\n",
       "    <tr>\n",
       "      <th>3</th>\n",
       "      <td>AC</td>\n",
       "      <td>120013</td>\n",
       "      <td>Sim</td>\n",
       "      <td>BUJARI</td>\n",
       "    </tr>\n",
       "    <tr>\n",
       "      <th>4</th>\n",
       "      <td>AC</td>\n",
       "      <td>120017</td>\n",
       "      <td>Sim</td>\n",
       "      <td>CAPIXABA</td>\n",
       "    </tr>\n",
       "  </tbody>\n",
       "</table>\n",
       "</div>"
      ],
      "text/plain": [
       "   UF    IBGE Adesão  NOME_MUNICIPIO\n",
       "0  AC  120001     Sim     ACRELANDIA\n",
       "1  AC  120005     Sim   ASSIS BRASIL\n",
       "2  AC  120010     Sim      BRASILEIA\n",
       "3  AC  120013     Sim         BUJARI\n",
       "4  AC  120017     Sim       CAPIXABA"
      ]
     },
     "execution_count": 211,
     "metadata": {},
     "output_type": "execute_result"
    }
   ],
   "source": [
    "#conferindo dados\n",
    "df.head()"
   ]
  },
  {
   "cell_type": "markdown",
   "metadata": {},
   "source": [
    "## Terceiro dataframe pra trazer a coluna ENTIDADE"
   ]
  },
  {
   "cell_type": "code",
   "execution_count": null,
   "metadata": {},
   "outputs": [
    {
     "name": "stderr",
     "output_type": "stream",
     "text": [
      "<>:1: SyntaxWarning: invalid escape sequence '\\R'\n",
      "<>:1: SyntaxWarning: invalid escape sequence '\\R'\n",
      "C:\\Users\\nicol\\AppData\\Local\\Temp\\ipykernel_4308\\4275146995.py:1: SyntaxWarning: invalid escape sequence '\\R'\n",
      "  df2 = pd.read_csv('Municipios csv\\Regiao norte.csv', delimiter=';')\n"
     ]
    }
   ],
   "source": [
    "#subindo o arquivo csv\n",
    "df2 = pd.read_csv('Municipios csv\\Regiao norte.csv', delimiter=';') "
   ]
  },
  {
   "cell_type": "code",
   "execution_count": null,
   "metadata": {},
   "outputs": [],
   "source": [
    "#excluindo as colunas uf, adesão e nome municipio\n",
    "df2.drop('UF', inplace=True, axis=1)\n",
    "df2.drop('Adesão ', inplace=True, axis=1)\n",
    "df2.drop('NOME_MUNICIPIO', inplace=True, axis=1)"
   ]
  },
  {
   "cell_type": "code",
   "execution_count": null,
   "metadata": {},
   "outputs": [],
   "source": [
    "#excluindo duplicadas de ibge e excluindo valores nulos\n",
    "df2.drop_duplicates('IBGE', inplace=True)\n",
    "df2.dropna(inplace=True)"
   ]
  },
  {
   "cell_type": "code",
   "execution_count": null,
   "metadata": {},
   "outputs": [],
   "source": [
    "#unindo com a primeira tabela\n",
    "df = pd.merge(df, df2, on='IBGE', how='left')"
   ]
  },
  {
   "cell_type": "code",
   "execution_count": null,
   "metadata": {},
   "outputs": [
    {
     "data": {
      "text/html": [
       "<div>\n",
       "<style scoped>\n",
       "    .dataframe tbody tr th:only-of-type {\n",
       "        vertical-align: middle;\n",
       "    }\n",
       "\n",
       "    .dataframe tbody tr th {\n",
       "        vertical-align: top;\n",
       "    }\n",
       "\n",
       "    .dataframe thead th {\n",
       "        text-align: right;\n",
       "    }\n",
       "</style>\n",
       "<table border=\"1\" class=\"dataframe\">\n",
       "  <thead>\n",
       "    <tr style=\"text-align: right;\">\n",
       "      <th></th>\n",
       "      <th>UF</th>\n",
       "      <th>IBGE</th>\n",
       "      <th>Adesão</th>\n",
       "      <th>NOME_MUNICIPIO</th>\n",
       "      <th>ENTIDADE</th>\n",
       "    </tr>\n",
       "  </thead>\n",
       "  <tbody>\n",
       "    <tr>\n",
       "      <th>0</th>\n",
       "      <td>AC</td>\n",
       "      <td>120001</td>\n",
       "      <td>Sim</td>\n",
       "      <td>ACRELANDIA</td>\n",
       "      <td>SECRETARIA MUNICIPAL DE SAUDE DE ACRELANDIA/AC</td>\n",
       "    </tr>\n",
       "    <tr>\n",
       "      <th>1</th>\n",
       "      <td>AC</td>\n",
       "      <td>120005</td>\n",
       "      <td>Sim</td>\n",
       "      <td>ASSIS BRASIL</td>\n",
       "      <td>SECRETARIA MUNICIPAL DE SAUDE DE ASSIS BRASIL/AC</td>\n",
       "    </tr>\n",
       "    <tr>\n",
       "      <th>2</th>\n",
       "      <td>AC</td>\n",
       "      <td>120010</td>\n",
       "      <td>Sim</td>\n",
       "      <td>BRASILEIA</td>\n",
       "      <td>SECRETARIA MUNICIPAL DE SAUDE DE BRASILEIA/AC</td>\n",
       "    </tr>\n",
       "    <tr>\n",
       "      <th>3</th>\n",
       "      <td>AC</td>\n",
       "      <td>120013</td>\n",
       "      <td>Sim</td>\n",
       "      <td>BUJARI</td>\n",
       "      <td>SECRETARIA MUNICIPAL DE SAUDE DE BUJARI/AC</td>\n",
       "    </tr>\n",
       "    <tr>\n",
       "      <th>4</th>\n",
       "      <td>AC</td>\n",
       "      <td>120017</td>\n",
       "      <td>Sim</td>\n",
       "      <td>CAPIXABA</td>\n",
       "      <td>SECRETARIA MUNICIPAL DE SAUDE DE CAPIXABA/AC</td>\n",
       "    </tr>\n",
       "  </tbody>\n",
       "</table>\n",
       "</div>"
      ],
      "text/plain": [
       "   UF    IBGE Adesão  NOME_MUNICIPIO  \\\n",
       "0  AC  120001     Sim     ACRELANDIA   \n",
       "1  AC  120005     Sim   ASSIS BRASIL   \n",
       "2  AC  120010     Sim      BRASILEIA   \n",
       "3  AC  120013     Sim         BUJARI   \n",
       "4  AC  120017     Sim       CAPIXABA   \n",
       "\n",
       "                                           ENTIDADE  \n",
       "0    SECRETARIA MUNICIPAL DE SAUDE DE ACRELANDIA/AC  \n",
       "1  SECRETARIA MUNICIPAL DE SAUDE DE ASSIS BRASIL/AC  \n",
       "2     SECRETARIA MUNICIPAL DE SAUDE DE BRASILEIA/AC  \n",
       "3        SECRETARIA MUNICIPAL DE SAUDE DE BUJARI/AC  \n",
       "4      SECRETARIA MUNICIPAL DE SAUDE DE CAPIXABA/AC  "
      ]
     },
     "execution_count": 216,
     "metadata": {},
     "output_type": "execute_result"
    }
   ],
   "source": [
    "#conferindo dados\n",
    "df.head()"
   ]
  },
  {
   "cell_type": "code",
   "execution_count": null,
   "metadata": {},
   "outputs": [
    {
     "data": {
      "text/html": [
       "<div>\n",
       "<style scoped>\n",
       "    .dataframe tbody tr th:only-of-type {\n",
       "        vertical-align: middle;\n",
       "    }\n",
       "\n",
       "    .dataframe tbody tr th {\n",
       "        vertical-align: top;\n",
       "    }\n",
       "\n",
       "    .dataframe thead th {\n",
       "        text-align: right;\n",
       "    }\n",
       "</style>\n",
       "<table border=\"1\" class=\"dataframe\">\n",
       "  <thead>\n",
       "    <tr style=\"text-align: right;\">\n",
       "      <th></th>\n",
       "      <th>UF</th>\n",
       "      <th>IBGE</th>\n",
       "      <th>Adesão</th>\n",
       "      <th>NOME_MUNICIPIO</th>\n",
       "      <th>ENTIDADE</th>\n",
       "    </tr>\n",
       "  </thead>\n",
       "  <tbody>\n",
       "    <tr>\n",
       "      <th>101</th>\n",
       "      <td>PA</td>\n",
       "      <td>150013</td>\n",
       "      <td>Não</td>\n",
       "      <td>ABEL FIGUEIREDO</td>\n",
       "      <td>NaN</td>\n",
       "    </tr>\n",
       "  </tbody>\n",
       "</table>\n",
       "</div>"
      ],
      "text/plain": [
       "     UF    IBGE Adesão    NOME_MUNICIPIO ENTIDADE\n",
       "101  PA  150013     Não  ABEL FIGUEIREDO      NaN"
      ]
     },
     "execution_count": 217,
     "metadata": {},
     "output_type": "execute_result"
    }
   ],
   "source": [
    "#Filtrando pelo nome abel figueiredo\n",
    "df[df['NOME_MUNICIPIO'] == 'ABEL FIGUEIREDO']"
   ]
  },
  {
   "cell_type": "code",
   "execution_count": null,
   "metadata": {},
   "outputs": [
    {
     "data": {
      "text/plain": [
       "array(['AC', 'AM', 'AP', 'PA', 'RO', 'RR', 'TO'], dtype=object)"
      ]
     },
     "execution_count": 218,
     "metadata": {},
     "output_type": "execute_result"
    }
   ],
   "source": [
    "#verificando valores unicos de uf\n",
    "df['UF'].unique()"
   ]
  },
  {
   "cell_type": "code",
   "execution_count": null,
   "metadata": {},
   "outputs": [
    {
     "data": {
      "text/plain": [
       "450"
      ]
     },
     "execution_count": 219,
     "metadata": {},
     "output_type": "execute_result"
    }
   ],
   "source": [
    "#conferindo tamanho do data frame\n",
    "len(df)"
   ]
  },
  {
   "cell_type": "code",
   "execution_count": null,
   "metadata": {},
   "outputs": [],
   "source": [
    "#exportando para csv\n",
    "df.to_csv('Regiao norte tratado.csv', sep=';', index=False)"
   ]
  }
 ],
 "metadata": {
  "kernelspec": {
   "display_name": "venv",
   "language": "python",
   "name": "python3"
  },
  "language_info": {
   "codemirror_mode": {
    "name": "ipython",
    "version": 3
   },
   "file_extension": ".py",
   "mimetype": "text/x-python",
   "name": "python",
   "nbconvert_exporter": "python",
   "pygments_lexer": "ipython3",
   "version": "3.13.0"
  }
 },
 "nbformat": 4,
 "nbformat_minor": 2
}
